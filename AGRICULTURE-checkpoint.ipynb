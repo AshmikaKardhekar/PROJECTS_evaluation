{
 "cells": [
  {
   "cell_type": "markdown",
   "metadata": {},
   "source": [
    "# LOADING THE LIBRARIES"
   ]
  },
  {
   "cell_type": "code",
   "execution_count": 1,
   "metadata": {},
   "outputs": [],
   "source": [
    "import pandas as pd\n",
    "import numpy as np\n",
    "import seaborn as sns\n",
    "import matplotlib.pyplot as plt\n",
    "%matplotlib inline\n",
    "import warnings \n",
    "warnings.filterwarnings('ignore')"
   ]
  },
  {
   "cell_type": "markdown",
   "metadata": {},
   "source": [
    "# READING THE DATASET"
   ]
  },
  {
   "cell_type": "code",
   "execution_count": 2,
   "metadata": {},
   "outputs": [],
   "source": [
    "agri = pd.read_excel('Downloads/train_agriculture.xlsx')\n",
    "agri.to_csv('Downloads/train_agriculture.csv')"
   ]
  },
  {
   "cell_type": "markdown",
   "metadata": {},
   "source": [
    "# KEEPING THE COPY OF DATA"
   ]
  },
  {
   "cell_type": "code",
   "execution_count": 3,
   "metadata": {},
   "outputs": [],
   "source": [
    "agri_copy = agri.copy()"
   ]
  },
  {
   "cell_type": "markdown",
   "metadata": {},
   "source": [
    "# EDA(Exploratory Data Analysis)"
   ]
  },
  {
   "cell_type": "code",
   "execution_count": 4,
   "metadata": {},
   "outputs": [
    {
     "data": {
      "text/html": [
       "<div>\n",
       "<style scoped>\n",
       "    .dataframe tbody tr th:only-of-type {\n",
       "        vertical-align: middle;\n",
       "    }\n",
       "\n",
       "    .dataframe tbody tr th {\n",
       "        vertical-align: top;\n",
       "    }\n",
       "\n",
       "    .dataframe thead th {\n",
       "        text-align: right;\n",
       "    }\n",
       "</style>\n",
       "<table border=\"1\" class=\"dataframe\">\n",
       "  <thead>\n",
       "    <tr style=\"text-align: right;\">\n",
       "      <th></th>\n",
       "      <th>ID</th>\n",
       "      <th>Estimated_Insects_Count</th>\n",
       "      <th>Crop_Type</th>\n",
       "      <th>Soil_Type</th>\n",
       "      <th>Pesticide_Use_Category</th>\n",
       "      <th>Number_Doses_Week</th>\n",
       "      <th>Number_Weeks_Used</th>\n",
       "      <th>Number_Weeks_Quit</th>\n",
       "      <th>Season</th>\n",
       "      <th>Crop_Damage</th>\n",
       "    </tr>\n",
       "  </thead>\n",
       "  <tbody>\n",
       "    <tr>\n",
       "      <th>0</th>\n",
       "      <td>F00000001</td>\n",
       "      <td>188</td>\n",
       "      <td>1</td>\n",
       "      <td>0</td>\n",
       "      <td>1</td>\n",
       "      <td>0</td>\n",
       "      <td>0.0</td>\n",
       "      <td>0</td>\n",
       "      <td>1</td>\n",
       "      <td>0</td>\n",
       "    </tr>\n",
       "    <tr>\n",
       "      <th>1</th>\n",
       "      <td>F00000003</td>\n",
       "      <td>209</td>\n",
       "      <td>1</td>\n",
       "      <td>0</td>\n",
       "      <td>1</td>\n",
       "      <td>0</td>\n",
       "      <td>0.0</td>\n",
       "      <td>0</td>\n",
       "      <td>2</td>\n",
       "      <td>1</td>\n",
       "    </tr>\n",
       "    <tr>\n",
       "      <th>2</th>\n",
       "      <td>F00000004</td>\n",
       "      <td>257</td>\n",
       "      <td>1</td>\n",
       "      <td>0</td>\n",
       "      <td>1</td>\n",
       "      <td>0</td>\n",
       "      <td>0.0</td>\n",
       "      <td>0</td>\n",
       "      <td>2</td>\n",
       "      <td>1</td>\n",
       "    </tr>\n",
       "    <tr>\n",
       "      <th>3</th>\n",
       "      <td>F00000005</td>\n",
       "      <td>257</td>\n",
       "      <td>1</td>\n",
       "      <td>1</td>\n",
       "      <td>1</td>\n",
       "      <td>0</td>\n",
       "      <td>0.0</td>\n",
       "      <td>0</td>\n",
       "      <td>2</td>\n",
       "      <td>1</td>\n",
       "    </tr>\n",
       "    <tr>\n",
       "      <th>4</th>\n",
       "      <td>F00000006</td>\n",
       "      <td>342</td>\n",
       "      <td>1</td>\n",
       "      <td>0</td>\n",
       "      <td>1</td>\n",
       "      <td>0</td>\n",
       "      <td>0.0</td>\n",
       "      <td>0</td>\n",
       "      <td>2</td>\n",
       "      <td>1</td>\n",
       "    </tr>\n",
       "    <tr>\n",
       "      <th>...</th>\n",
       "      <td>...</td>\n",
       "      <td>...</td>\n",
       "      <td>...</td>\n",
       "      <td>...</td>\n",
       "      <td>...</td>\n",
       "      <td>...</td>\n",
       "      <td>...</td>\n",
       "      <td>...</td>\n",
       "      <td>...</td>\n",
       "      <td>...</td>\n",
       "    </tr>\n",
       "    <tr>\n",
       "      <th>4594</th>\n",
       "      <td>F00008078</td>\n",
       "      <td>2138</td>\n",
       "      <td>0</td>\n",
       "      <td>1</td>\n",
       "      <td>2</td>\n",
       "      <td>20</td>\n",
       "      <td>NaN</td>\n",
       "      <td>1</td>\n",
       "      <td>1</td>\n",
       "      <td>1</td>\n",
       "    </tr>\n",
       "    <tr>\n",
       "      <th>4595</th>\n",
       "      <td>F00008079</td>\n",
       "      <td>2139</td>\n",
       "      <td>0</td>\n",
       "      <td>1</td>\n",
       "      <td>2</td>\n",
       "      <td>30</td>\n",
       "      <td>47.0</td>\n",
       "      <td>2</td>\n",
       "      <td>1</td>\n",
       "      <td>1</td>\n",
       "    </tr>\n",
       "    <tr>\n",
       "      <th>4596</th>\n",
       "      <td>F00008080</td>\n",
       "      <td>2267</td>\n",
       "      <td>0</td>\n",
       "      <td>1</td>\n",
       "      <td>2</td>\n",
       "      <td>10</td>\n",
       "      <td>7.0</td>\n",
       "      <td>27</td>\n",
       "      <td>2</td>\n",
       "      <td>0</td>\n",
       "    </tr>\n",
       "    <tr>\n",
       "      <th>4597</th>\n",
       "      <td>F00008082</td>\n",
       "      <td>2267</td>\n",
       "      <td>0</td>\n",
       "      <td>1</td>\n",
       "      <td>2</td>\n",
       "      <td>10</td>\n",
       "      <td>20.0</td>\n",
       "      <td>24</td>\n",
       "      <td>2</td>\n",
       "      <td>0</td>\n",
       "    </tr>\n",
       "    <tr>\n",
       "      <th>4598</th>\n",
       "      <td>F00008083</td>\n",
       "      <td>2267</td>\n",
       "      <td>0</td>\n",
       "      <td>1</td>\n",
       "      <td>2</td>\n",
       "      <td>10</td>\n",
       "      <td>33.0</td>\n",
       "      <td>17</td>\n",
       "      <td>2</td>\n",
       "      <td>0</td>\n",
       "    </tr>\n",
       "  </tbody>\n",
       "</table>\n",
       "<p>4599 rows × 10 columns</p>\n",
       "</div>"
      ],
      "text/plain": [
       "             ID  Estimated_Insects_Count  Crop_Type  Soil_Type  \\\n",
       "0     F00000001                      188          1          0   \n",
       "1     F00000003                      209          1          0   \n",
       "2     F00000004                      257          1          0   \n",
       "3     F00000005                      257          1          1   \n",
       "4     F00000006                      342          1          0   \n",
       "...         ...                      ...        ...        ...   \n",
       "4594  F00008078                     2138          0          1   \n",
       "4595  F00008079                     2139          0          1   \n",
       "4596  F00008080                     2267          0          1   \n",
       "4597  F00008082                     2267          0          1   \n",
       "4598  F00008083                     2267          0          1   \n",
       "\n",
       "      Pesticide_Use_Category  Number_Doses_Week  Number_Weeks_Used  \\\n",
       "0                          1                  0                0.0   \n",
       "1                          1                  0                0.0   \n",
       "2                          1                  0                0.0   \n",
       "3                          1                  0                0.0   \n",
       "4                          1                  0                0.0   \n",
       "...                      ...                ...                ...   \n",
       "4594                       2                 20                NaN   \n",
       "4595                       2                 30               47.0   \n",
       "4596                       2                 10                7.0   \n",
       "4597                       2                 10               20.0   \n",
       "4598                       2                 10               33.0   \n",
       "\n",
       "      Number_Weeks_Quit  Season  Crop_Damage  \n",
       "0                     0       1            0  \n",
       "1                     0       2            1  \n",
       "2                     0       2            1  \n",
       "3                     0       2            1  \n",
       "4                     0       2            1  \n",
       "...                 ...     ...          ...  \n",
       "4594                  1       1            1  \n",
       "4595                  2       1            1  \n",
       "4596                 27       2            0  \n",
       "4597                 24       2            0  \n",
       "4598                 17       2            0  \n",
       "\n",
       "[4599 rows x 10 columns]"
      ]
     },
     "execution_count": 4,
     "metadata": {},
     "output_type": "execute_result"
    }
   ],
   "source": [
    "agri"
   ]
  },
  {
   "cell_type": "code",
   "execution_count": 5,
   "metadata": {},
   "outputs": [
    {
     "data": {
      "text/plain": [
       "(4599, 10)"
      ]
     },
     "execution_count": 5,
     "metadata": {},
     "output_type": "execute_result"
    }
   ],
   "source": [
    "agri.shape"
   ]
  },
  {
   "cell_type": "code",
   "execution_count": 6,
   "metadata": {},
   "outputs": [
    {
     "name": "stdout",
     "output_type": "stream",
     "text": [
      "<class 'pandas.core.frame.DataFrame'>\n",
      "RangeIndex: 4599 entries, 0 to 4598\n",
      "Data columns (total 10 columns):\n",
      " #   Column                   Non-Null Count  Dtype  \n",
      "---  ------                   --------------  -----  \n",
      " 0   ID                       4599 non-null   object \n",
      " 1   Estimated_Insects_Count  4599 non-null   int64  \n",
      " 2   Crop_Type                4599 non-null   int64  \n",
      " 3   Soil_Type                4599 non-null   int64  \n",
      " 4   Pesticide_Use_Category   4599 non-null   int64  \n",
      " 5   Number_Doses_Week        4599 non-null   int64  \n",
      " 6   Number_Weeks_Used        4157 non-null   float64\n",
      " 7   Number_Weeks_Quit        4599 non-null   int64  \n",
      " 8   Season                   4599 non-null   int64  \n",
      " 9   Crop_Damage              4599 non-null   int64  \n",
      "dtypes: float64(1), int64(8), object(1)\n",
      "memory usage: 359.4+ KB\n"
     ]
    }
   ],
   "source": [
    "agri.info()"
   ]
  },
  {
   "cell_type": "markdown",
   "metadata": {},
   "source": [
    "We have null values present only in the Number_Weeks_Used. Let's get the count of it."
   ]
  },
  {
   "cell_type": "code",
   "execution_count": 7,
   "metadata": {},
   "outputs": [
    {
     "data": {
      "text/plain": [
       "ID                           0\n",
       "Estimated_Insects_Count      0\n",
       "Crop_Type                    0\n",
       "Soil_Type                    0\n",
       "Pesticide_Use_Category       0\n",
       "Number_Doses_Week            0\n",
       "Number_Weeks_Used          442\n",
       "Number_Weeks_Quit            0\n",
       "Season                       0\n",
       "Crop_Damage                  0\n",
       "dtype: int64"
      ]
     },
     "execution_count": 7,
     "metadata": {},
     "output_type": "execute_result"
    }
   ],
   "source": [
    "agri.isnull().sum()"
   ]
  },
  {
   "cell_type": "markdown",
   "metadata": {},
   "source": [
    "So, out of 4599 rows present in our data we have 442 missing values ie. around 10% data is missing and so we can impute the values in it.  "
   ]
  },
  {
   "cell_type": "code",
   "execution_count": 8,
   "metadata": {},
   "outputs": [],
   "source": [
    "agri['Number_Weeks_Used'].fillna(agri['Number_Weeks_Used'].mode()[0],inplace=True)"
   ]
  },
  {
   "cell_type": "code",
   "execution_count": 9,
   "metadata": {},
   "outputs": [
    {
     "data": {
      "text/plain": [
       "ID                         0\n",
       "Estimated_Insects_Count    0\n",
       "Crop_Type                  0\n",
       "Soil_Type                  0\n",
       "Pesticide_Use_Category     0\n",
       "Number_Doses_Week          0\n",
       "Number_Weeks_Used          0\n",
       "Number_Weeks_Quit          0\n",
       "Season                     0\n",
       "Crop_Damage                0\n",
       "dtype: int64"
      ]
     },
     "execution_count": 9,
     "metadata": {},
     "output_type": "execute_result"
    }
   ],
   "source": [
    "agri.isnull().sum()"
   ]
  },
  {
   "cell_type": "code",
   "execution_count": 10,
   "metadata": {},
   "outputs": [
    {
     "data": {
      "text/plain": [
       "ID                            0\n",
       "Estimated_Insects_Count       0\n",
       "Crop_Type                  3565\n",
       "Soil_Type                  2407\n",
       "Pesticide_Use_Category        0\n",
       "Number_Doses_Week            45\n",
       "Number_Weeks_Used            40\n",
       "Number_Weeks_Quit          1496\n",
       "Season                        0\n",
       "Crop_Damage                3820\n",
       "dtype: int64"
      ]
     },
     "execution_count": 10,
     "metadata": {},
     "output_type": "execute_result"
    }
   ],
   "source": [
    "#zero values present in our dataset\n",
    "agri.isin([0]).sum()"
   ]
  },
  {
   "cell_type": "code",
   "execution_count": 11,
   "metadata": {},
   "outputs": [
    {
     "data": {
      "text/plain": [
       "array([4599, 4599, 1034, 2192, 4599, 4554, 4559, 3103, 4599,  779],\n",
       "      dtype=int64)"
      ]
     },
     "execution_count": 11,
     "metadata": {},
     "output_type": "execute_result"
    }
   ],
   "source": [
    "#Non-zero values present in our dataset\n",
    "np.count_nonzero(agri, axis=0)"
   ]
  },
  {
   "cell_type": "markdown",
   "metadata": {},
   "source": [
    "Let's visualize our data!"
   ]
  },
  {
   "cell_type": "markdown",
   "metadata": {},
   "source": [
    "We need to determine the outcome of the harvest season, i.e. whether the crop would be healthy (alive), damaged by pesticides or damaged by other reasons.\n",
    "\n",
    "So, Crop_Damage is our target variable.\n",
    "\n",
    "Crop_Damage :- \n",
    "    \n",
    "     0=alive\n",
    "     1=Damage due to other causes\n",
    "     3=Damage due to the Pestisides\n",
    "\n"
   ]
  },
  {
   "cell_type": "code",
   "execution_count": 12,
   "metadata": {},
   "outputs": [],
   "source": [
    "sns.set(style='whitegrid')"
   ]
  },
  {
   "cell_type": "code",
   "execution_count": 13,
   "metadata": {},
   "outputs": [
    {
     "data": {
      "text/plain": [
       "<matplotlib.axes._subplots.AxesSubplot at 0x218dca374c0>"
      ]
     },
     "execution_count": 13,
     "metadata": {},
     "output_type": "execute_result"
    },
    {
     "data": {
      "image/png": "[encoded data removed]",
      "text/plain": [
       "<Figure size 1440x360 with 1 Axes>"
      ]
     },
     "metadata": {},
     "output_type": "display_data"
    }
   ],
   "source": [
    "plt.figure(figsize=(20,5))\n",
    "sns.countplot(agri['Crop_Damage'], palette=['greenyellow', 'peru', 'red'])"
   ]
  },
  {
   "cell_type": "markdown",
   "metadata": {},
   "source": [
    "We see that the damage due to the pesticides is very less, which is almost 2-3%, then the damage due to the other factors is around 10-15%, and majority of the yeild was safe,ie.crops were alive which are around 80-85%.\n",
    "\n",
    "We can see a high data imbalance in the target variable."
   ]
  },
  {
   "cell_type": "markdown",
   "metadata": {},
   "source": [
    "Estimated_Insects_Count :-\n",
    "    Estimated insects count per square meter."
   ]
  },
  {
   "cell_type": "code",
   "execution_count": 14,
   "metadata": {},
   "outputs": [
    {
     "data": {
      "text/plain": [
       "Text(0.5, 1.0, 'Estimated insects count per square meter.')"
      ]
     },
     "execution_count": 14,
     "metadata": {},
     "output_type": "execute_result"
    },
    {
     "data": {
      "image/png": "[encoded data removed]",
      "text/plain": [
       "<Figure size 1440x360 with 4 Axes>"
      ]
     },
     "metadata": {},
     "output_type": "display_data"
    }
   ],
   "source": [
    "fig, axes = plt.subplots(nrows=1, ncols=4,figsize=(20,5))\n",
    "ax = sns.barplot(y = agri['Estimated_Insects_Count'], x = agri['Crop_Damage'], palette=['linen'], ax=axes[0])\n",
    "ax.set_title('Insects counts wtr Crop damage')\n",
    "insects = agri.groupby('Crop_Type')['Estimated_Insects_Count'].sum()\n",
    "ax = insects.plot(kind='bar', color=['yellow'], ax=axes[1])\n",
    "ax.set_title('Insects counts over a crop type')\n",
    "insects = agri.groupby('Soil_Type')['Estimated_Insects_Count'].sum()\n",
    "ax = insects.plot(kind='bar', color=['tan'], ax=axes[2])\n",
    "ax.set_title('Insects counts over a soil type')\n",
    "ax = agri['Estimated_Insects_Count'].plot(kind='hist', color=['orange'], ax=axes[3] )\n",
    "ax.set_title('Estimated insects count per square meter.')"
   ]
  },
  {
   "cell_type": "markdown",
   "metadata": {},
   "source": [
    "Crop type 0 is prone to get attacked by the insects on a higher rate than the crop type 1.\n",
    "So, the amount of pesticide required for crop type 0 is more.\n",
    "\n",
    "Soil type is not much of a factor in detecting whether the crop will be attacked by the insects or not, it is more likely responsible for the yeild of the crops.\n",
    "\n",
    "The crop damage due to the insects is less than the crop damage due to the other factors, since we are unaware of the other situations we can't say much on it.\n",
    "\n",
    "The data for estimated insects is a bit right skewed, so we'll have to remove skewness."
   ]
  },
  {
   "cell_type": "markdown",
   "metadata": {},
   "source": [
    "Crop_Type :-\n",
    "    Category of Crop(0,1)."
   ]
  },
  {
   "cell_type": "code",
   "execution_count": 15,
   "metadata": {},
   "outputs": [
    {
     "data": {
      "text/plain": [
       "<matplotlib.axes._subplots.AxesSubplot at 0x218dc7518e0>"
      ]
     },
     "execution_count": 15,
     "metadata": {},
     "output_type": "execute_result"
    },
    {
     "data": {
      "image/png": "[encoded data removed]",
      "text/plain": [
       "<Figure size 1440x360 with 1 Axes>"
      ]
     },
     "metadata": {},
     "output_type": "display_data"
    }
   ],
   "source": [
    "plt.figure(figsize=(20,5))\n",
    "plt.xticks(rotation = 90)\n",
    "sns.countplot(x = agri['Crop_Type'], hue=agri['Crop_Damage'], palette=['greenyellow', 'peru', 'red'])"
   ]
  },
  {
   "cell_type": "markdown",
   "metadata": {},
   "source": [
    "We can hypothetically say that the crop 1 is high is number and so we can see higher numbers in each category of the crop damage.\n",
    "Also from the above observations we have made clear that the insect attack was more on the crop 1 type but it can also be due to the higher number of yeild of that particular crop type."
   ]
  },
  {
   "cell_type": "markdown",
   "metadata": {},
   "source": [
    "Soil_Type :-\n",
    "    Category of Soil(0,1)"
   ]
  },
  {
   "cell_type": "code",
   "execution_count": 16,
   "metadata": {},
   "outputs": [
    {
     "data": {
      "text/plain": [
       "<matplotlib.axes._subplots.AxesSubplot at 0x218dc831e80>"
      ]
     },
     "execution_count": 16,
     "metadata": {},
     "output_type": "execute_result"
    },
    {
     "data": {
      "image/png": "[encoded data removed]",
      "text/plain": [
       "<Figure size 1440x360 with 1 Axes>"
      ]
     },
     "metadata": {},
     "output_type": "display_data"
    }
   ],
   "source": [
    "plt.figure(figsize=(20,5))\n",
    "plt.xticks(rotation = 90)\n",
    "sns.countplot(x = agri['Soil_Type'], hue=agri['Crop_Damage'], palette=['greenyellow', 'peru', 'red'])"
   ]
  },
  {
   "cell_type": "markdown",
   "metadata": {},
   "source": [
    "The soil is quite balanced in both the categories."
   ]
  },
  {
   "cell_type": "markdown",
   "metadata": {},
   "source": [
    "Pesticide_Use_Category :-\n",
    "    Type of pesticides uses.\n",
    "    \n",
    "    1=Never\n",
    "    2=Previously Used\n",
    "    3=Currently Using"
   ]
  },
  {
   "cell_type": "code",
   "execution_count": 17,
   "metadata": {},
   "outputs": [
    {
     "data": {
      "text/plain": [
       "<matplotlib.axes._subplots.AxesSubplot at 0x218dc8bc040>"
      ]
     },
     "execution_count": 17,
     "metadata": {},
     "output_type": "execute_result"
    },
    {
     "data": {
      "image/png": "[encoded data removed]",
      "text/plain": [
       "<Figure size 1440x360 with 1 Axes>"
      ]
     },
     "metadata": {},
     "output_type": "display_data"
    }
   ],
   "source": [
    "plt.figure(figsize=(20,5))\n",
    "plt.xticks(rotation = 90)\n",
    "sns.countplot(x = agri['Pesticide_Use_Category'], hue=agri['Crop_Damage'], palette=['greenyellow', 'peru', 'red'])"
   ]
  },
  {
   "cell_type": "markdown",
   "metadata": {},
   "source": [
    "There are no to only a few cases of pesticides which were not used at all.\n",
    "But there is a scenerio where we can see that the pesticides which were used previously had a very good rate of crop survival.\n",
    "But the pesticides which are used currently do not have good numbers in the crop survival, there is a lot of crop damage in each category."
   ]
  },
  {
   "cell_type": "markdown",
   "metadata": {},
   "source": [
    "Number_Doses_Week :-\n",
    "    Number of doses per week."
   ]
  },
  {
   "cell_type": "markdown",
   "metadata": {},
   "source": [
    "Number_Weeks_Used :-\n",
    "    Number of weeks used."
   ]
  },
  {
   "cell_type": "markdown",
   "metadata": {},
   "source": [
    "Number_Weeks_Quit :-\n",
    "    Number of weeks quit."
   ]
  },
  {
   "cell_type": "code",
   "execution_count": 18,
   "metadata": {},
   "outputs": [
    {
     "data": {
      "text/plain": [
       "Text(0.5, 1.0, 'Number of weeks quit.')"
      ]
     },
     "execution_count": 18,
     "metadata": {},
     "output_type": "execute_result"
    },
    {
     "data": {
      "image/png": "[encoded data removed]",
      "text/plain": [
       "<Figure size 1440x360 with 3 Axes>"
      ]
     },
     "metadata": {},
     "output_type": "display_data"
    }
   ],
   "source": [
    "fig, axes = plt.subplots(nrows=1, ncols=3,figsize=(20,5))\n",
    "ax = agri['Number_Doses_Week'].plot(kind='hist', color=['lightcyan'], ax=axes[0] )\n",
    "ax.set_title('Number of doses per week.')\n",
    "ax = agri['Number_Weeks_Used'].plot(kind='hist', color=['lightcyan'], ax=axes[1] )\n",
    "ax.set_title('Number of weeks used.')\n",
    "ax = agri['Number_Weeks_Quit'].plot(kind='hist', color=['lightcyan'], ax=axes[2] )\n",
    "ax.set_title('Number of weeks quit.')"
   ]
  },
  {
   "cell_type": "markdown",
   "metadata": {},
   "source": [
    "Season :-\n",
    "    Season Category(1,2,3)."
   ]
  },
  {
   "cell_type": "code",
   "execution_count": 19,
   "metadata": {},
   "outputs": [
    {
     "data": {
      "text/plain": [
       "<matplotlib.axes._subplots.AxesSubplot at 0x218dda54cd0>"
      ]
     },
     "execution_count": 19,
     "metadata": {},
     "output_type": "execute_result"
    },
    {
     "data": {
      "image/png": "[encoded data removed]",
      "text/plain": [
       "<Figure size 1440x360 with 1 Axes>"
      ]
     },
     "metadata": {},
     "output_type": "display_data"
    }
   ],
   "source": [
    "plt.figure(figsize=(20,5))\n",
    "plt.xticks(rotation = 90)\n",
    "sns.countplot(x = agri['Season'], hue=agri['Crop_Damage'], palette=['greenyellow', 'peru', 'red'])"
   ]
  },
  {
   "cell_type": "markdown",
   "metadata": {},
   "source": [
    "Seasonal variation is shown in the crop damage, we can see the pattern followed by each type of crop damage in the corresponding seasons.\n",
    "The number of active crops are more in the season 2 followed by 1 and 3, the other factors also show the same behaviour which can also tell us about the yeild in that particular season."
   ]
  },
  {
   "cell_type": "code",
   "execution_count": 20,
   "metadata": {},
   "outputs": [
    {
     "data": {
      "image/png": "[encoded data removed]",
      "text/plain": [
       "<Figure size 1440x1440 with 20 Axes>"
      ]
     },
     "metadata": {},
     "output_type": "display_data"
    }
   ],
   "source": [
    "agri.hist(grid=True, layout=(4,5), figsize=(20,20), bins=10, color='green')\n",
    "plt.show()"
   ]
  },
  {
   "cell_type": "code",
   "execution_count": 21,
   "metadata": {},
   "outputs": [
    {
     "data": {
      "image/png": "[encoded data removed]",
      "text/plain": [
       "<Figure size 1440x1440 with 20 Axes>"
      ]
     },
     "metadata": {},
     "output_type": "display_data"
    }
   ],
   "source": [
    "agri.plot(kind='box', subplots=True, layout=(4,5), figsize=(20,20), color='green')\n",
    "plt.show()"
   ]
  },
  {
   "cell_type": "markdown",
   "metadata": {},
   "source": [
    "We can see that there is some kind skewness in our data but that is not due to inconsistency in the data or due to biasing, it is because of the different values which is heping in differentiating the crop damage done.\n",
    "\n",
    "We also don't see much outliers as we earlier assumed that these are the high values used for the differentiating. So we don't need to deal with any skewness or outliers."
   ]
  },
  {
   "cell_type": "markdown",
   "metadata": {},
   "source": [
    "Let's check the correlation!"
   ]
  },
  {
   "cell_type": "code",
   "execution_count": 22,
   "metadata": {},
   "outputs": [
    {
     "data": {
      "text/plain": [
       "<matplotlib.axes._subplots.AxesSubplot at 0x218ddd622e0>"
      ]
     },
     "execution_count": 22,
     "metadata": {},
     "output_type": "execute_result"
    },
    {
     "data": {
      "image/png": "[encoded data removed]",
      "text/plain": [
       "<Figure size 1440x720 with 2 Axes>"
      ]
     },
     "metadata": {},
     "output_type": "display_data"
    }
   ],
   "source": [
    "corr = agri.corr()\n",
    "plt.figure(figsize=(20, 10))\n",
    "sns.heatmap(corr, annot=True, cmap='GnBu')"
   ]
  },
  {
   "cell_type": "markdown",
   "metadata": {},
   "source": [
    "We don't see much correltion of the independent variables with our target variable, let's see how our model will work after training in such conditions."
   ]
  },
  {
   "cell_type": "markdown",
   "metadata": {},
   "source": [
    "# TRAINING THE MODEL"
   ]
  },
  {
   "cell_type": "markdown",
   "metadata": {},
   "source": [
    "# Classification :-"
   ]
  },
  {
   "cell_type": "markdown",
   "metadata": {},
   "source": [
    "We need to determine the outcome of the harvest season, i.e. whether the crop would be healthy (alive), damaged by pesticides or damaged by other reasons.\n",
    "\n",
    "So, Crop_Damage is our target variable.\n",
    "     \n",
    "     0=alive\n",
    "     1=Damage due to other causes\n",
    "     3=Damage due to the Pestisides\n",
    "And hence our problem becomes a classification problem."
   ]
  },
  {
   "cell_type": "code",
   "execution_count": 23,
   "metadata": {},
   "outputs": [
    {
     "data": {
      "text/html": [
       "<div>\n",
       "<style scoped>\n",
       "    .dataframe tbody tr th:only-of-type {\n",
       "        vertical-align: middle;\n",
       "    }\n",
       "\n",
       "    .dataframe tbody tr th {\n",
       "        vertical-align: top;\n",
       "    }\n",
       "\n",
       "    .dataframe thead th {\n",
       "        text-align: right;\n",
       "    }\n",
       "</style>\n",
       "<table border=\"1\" class=\"dataframe\">\n",
       "  <thead>\n",
       "    <tr style=\"text-align: right;\">\n",
       "      <th></th>\n",
       "      <th>Estimated_Insects_Count</th>\n",
       "      <th>Crop_Type</th>\n",
       "      <th>Soil_Type</th>\n",
       "      <th>Pesticide_Use_Category</th>\n",
       "      <th>Number_Doses_Week</th>\n",
       "      <th>Number_Weeks_Used</th>\n",
       "      <th>Number_Weeks_Quit</th>\n",
       "      <th>Season</th>\n",
       "    </tr>\n",
       "  </thead>\n",
       "  <tbody>\n",
       "    <tr>\n",
       "      <th>0</th>\n",
       "      <td>188</td>\n",
       "      <td>1</td>\n",
       "      <td>0</td>\n",
       "      <td>1</td>\n",
       "      <td>0</td>\n",
       "      <td>0.0</td>\n",
       "      <td>0</td>\n",
       "      <td>1</td>\n",
       "    </tr>\n",
       "    <tr>\n",
       "      <th>1</th>\n",
       "      <td>209</td>\n",
       "      <td>1</td>\n",
       "      <td>0</td>\n",
       "      <td>1</td>\n",
       "      <td>0</td>\n",
       "      <td>0.0</td>\n",
       "      <td>0</td>\n",
       "      <td>2</td>\n",
       "    </tr>\n",
       "    <tr>\n",
       "      <th>2</th>\n",
       "      <td>257</td>\n",
       "      <td>1</td>\n",
       "      <td>0</td>\n",
       "      <td>1</td>\n",
       "      <td>0</td>\n",
       "      <td>0.0</td>\n",
       "      <td>0</td>\n",
       "      <td>2</td>\n",
       "    </tr>\n",
       "    <tr>\n",
       "      <th>3</th>\n",
       "      <td>257</td>\n",
       "      <td>1</td>\n",
       "      <td>1</td>\n",
       "      <td>1</td>\n",
       "      <td>0</td>\n",
       "      <td>0.0</td>\n",
       "      <td>0</td>\n",
       "      <td>2</td>\n",
       "    </tr>\n",
       "    <tr>\n",
       "      <th>4</th>\n",
       "      <td>342</td>\n",
       "      <td>1</td>\n",
       "      <td>0</td>\n",
       "      <td>1</td>\n",
       "      <td>0</td>\n",
       "      <td>0.0</td>\n",
       "      <td>0</td>\n",
       "      <td>2</td>\n",
       "    </tr>\n",
       "  </tbody>\n",
       "</table>\n",
       "</div>"
      ],
      "text/plain": [
       "   Estimated_Insects_Count  Crop_Type  Soil_Type  Pesticide_Use_Category  \\\n",
       "0                      188          1          0                       1   \n",
       "1                      209          1          0                       1   \n",
       "2                      257          1          0                       1   \n",
       "3                      257          1          1                       1   \n",
       "4                      342          1          0                       1   \n",
       "\n",
       "   Number_Doses_Week  Number_Weeks_Used  Number_Weeks_Quit  Season  \n",
       "0                  0                0.0                  0       1  \n",
       "1                  0                0.0                  0       2  \n",
       "2                  0                0.0                  0       2  \n",
       "3                  0                0.0                  0       2  \n",
       "4                  0                0.0                  0       2  "
      ]
     },
     "execution_count": 23,
     "metadata": {},
     "output_type": "execute_result"
    }
   ],
   "source": [
    "X = agri.drop(columns=['ID','Crop_Damage'],axis=1)\n",
    "X.head()"
   ]
  },
  {
   "cell_type": "markdown",
   "metadata": {},
   "source": [
    "Since, our data has different units we will have to bring them on the same scale and hence we'll do standardization of data.\n",
    "\n",
    "Also we'll have to do one hot encoding because our data is not ordinal and we don't want our model to give weights according to the numbers mentioned in individual columns.m"
   ]
  },
  {
   "cell_type": "code",
   "execution_count": 24,
   "metadata": {},
   "outputs": [],
   "source": [
    "from sklearn.preprocessing import StandardScaler\n",
    "X = pd.get_dummies(X, columns = ['Crop_Type', 'Soil_Type', 'Pesticide_Use_Category', 'Season'])\n",
    "sc = StandardScaler()\n",
    "columns_to_scale = ['Estimated_Insects_Count', 'Number_Doses_Week', 'Number_Weeks_Used', 'Number_Weeks_Quit']\n",
    "X[columns_to_scale] = sc.fit_transform(X[columns_to_scale])"
   ]
  },
  {
   "cell_type": "markdown",
   "metadata": {},
   "source": [
    "Dummy variables hold the originally measured effect sizes. Normalizing or standardizing them will let us compromise on their interpret ability.If our objective is to interpret the feature, then scaling should not be done. Otherwise, for model selection purposes, we can attempt to scale the dummy variables."
   ]
  },
  {
   "cell_type": "code",
   "execution_count": 25,
   "metadata": {},
   "outputs": [
    {
     "data": {
      "text/html": [
       "<div>\n",
       "<style scoped>\n",
       "    .dataframe tbody tr th:only-of-type {\n",
       "        vertical-align: middle;\n",
       "    }\n",
       "\n",
       "    .dataframe tbody tr th {\n",
       "        vertical-align: top;\n",
       "    }\n",
       "\n",
       "    .dataframe thead th {\n",
       "        text-align: right;\n",
       "    }\n",
       "</style>\n",
       "<table border=\"1\" class=\"dataframe\">\n",
       "  <thead>\n",
       "    <tr style=\"text-align: right;\">\n",
       "      <th></th>\n",
       "      <th>Estimated_Insects_Count</th>\n",
       "      <th>Number_Doses_Week</th>\n",
       "      <th>Number_Weeks_Used</th>\n",
       "      <th>Number_Weeks_Quit</th>\n",
       "      <th>Crop_Type_0</th>\n",
       "      <th>Crop_Type_1</th>\n",
       "      <th>Soil_Type_0</th>\n",
       "      <th>Soil_Type_1</th>\n",
       "      <th>Pesticide_Use_Category_1</th>\n",
       "      <th>Pesticide_Use_Category_2</th>\n",
       "      <th>Pesticide_Use_Category_3</th>\n",
       "      <th>Season_1</th>\n",
       "      <th>Season_2</th>\n",
       "      <th>Season_3</th>\n",
       "    </tr>\n",
       "  </thead>\n",
       "  <tbody>\n",
       "    <tr>\n",
       "      <th>0</th>\n",
       "      <td>-1.442868</td>\n",
       "      <td>-1.705699</td>\n",
       "      <td>-2.289051</td>\n",
       "      <td>-0.947827</td>\n",
       "      <td>0</td>\n",
       "      <td>1</td>\n",
       "      <td>1</td>\n",
       "      <td>0</td>\n",
       "      <td>1</td>\n",
       "      <td>0</td>\n",
       "      <td>0</td>\n",
       "      <td>1</td>\n",
       "      <td>0</td>\n",
       "      <td>0</td>\n",
       "    </tr>\n",
       "    <tr>\n",
       "      <th>1</th>\n",
       "      <td>-1.417081</td>\n",
       "      <td>-1.705699</td>\n",
       "      <td>-2.289051</td>\n",
       "      <td>-0.947827</td>\n",
       "      <td>0</td>\n",
       "      <td>1</td>\n",
       "      <td>1</td>\n",
       "      <td>0</td>\n",
       "      <td>1</td>\n",
       "      <td>0</td>\n",
       "      <td>0</td>\n",
       "      <td>0</td>\n",
       "      <td>1</td>\n",
       "      <td>0</td>\n",
       "    </tr>\n",
       "    <tr>\n",
       "      <th>2</th>\n",
       "      <td>-1.358138</td>\n",
       "      <td>-1.705699</td>\n",
       "      <td>-2.289051</td>\n",
       "      <td>-0.947827</td>\n",
       "      <td>0</td>\n",
       "      <td>1</td>\n",
       "      <td>1</td>\n",
       "      <td>0</td>\n",
       "      <td>1</td>\n",
       "      <td>0</td>\n",
       "      <td>0</td>\n",
       "      <td>0</td>\n",
       "      <td>1</td>\n",
       "      <td>0</td>\n",
       "    </tr>\n",
       "    <tr>\n",
       "      <th>3</th>\n",
       "      <td>-1.358138</td>\n",
       "      <td>-1.705699</td>\n",
       "      <td>-2.289051</td>\n",
       "      <td>-0.947827</td>\n",
       "      <td>0</td>\n",
       "      <td>1</td>\n",
       "      <td>0</td>\n",
       "      <td>1</td>\n",
       "      <td>1</td>\n",
       "      <td>0</td>\n",
       "      <td>0</td>\n",
       "      <td>0</td>\n",
       "      <td>1</td>\n",
       "      <td>0</td>\n",
       "    </tr>\n",
       "    <tr>\n",
       "      <th>4</th>\n",
       "      <td>-1.253760</td>\n",
       "      <td>-1.705699</td>\n",
       "      <td>-2.289051</td>\n",
       "      <td>-0.947827</td>\n",
       "      <td>0</td>\n",
       "      <td>1</td>\n",
       "      <td>1</td>\n",
       "      <td>0</td>\n",
       "      <td>1</td>\n",
       "      <td>0</td>\n",
       "      <td>0</td>\n",
       "      <td>0</td>\n",
       "      <td>1</td>\n",
       "      <td>0</td>\n",
       "    </tr>\n",
       "  </tbody>\n",
       "</table>\n",
       "</div>"
      ],
      "text/plain": [
       "   Estimated_Insects_Count  Number_Doses_Week  Number_Weeks_Used  \\\n",
       "0                -1.442868          -1.705699          -2.289051   \n",
       "1                -1.417081          -1.705699          -2.289051   \n",
       "2                -1.358138          -1.705699          -2.289051   \n",
       "3                -1.358138          -1.705699          -2.289051   \n",
       "4                -1.253760          -1.705699          -2.289051   \n",
       "\n",
       "   Number_Weeks_Quit  Crop_Type_0  Crop_Type_1  Soil_Type_0  Soil_Type_1  \\\n",
       "0          -0.947827            0            1            1            0   \n",
       "1          -0.947827            0            1            1            0   \n",
       "2          -0.947827            0            1            1            0   \n",
       "3          -0.947827            0            1            0            1   \n",
       "4          -0.947827            0            1            1            0   \n",
       "\n",
       "   Pesticide_Use_Category_1  Pesticide_Use_Category_2  \\\n",
       "0                         1                         0   \n",
       "1                         1                         0   \n",
       "2                         1                         0   \n",
       "3                         1                         0   \n",
       "4                         1                         0   \n",
       "\n",
       "   Pesticide_Use_Category_3  Season_1  Season_2  Season_3  \n",
       "0                         0         1         0         0  \n",
       "1                         0         0         1         0  \n",
       "2                         0         0         1         0  \n",
       "3                         0         0         1         0  \n",
       "4                         0         0         1         0  "
      ]
     },
     "execution_count": 25,
     "metadata": {},
     "output_type": "execute_result"
    }
   ],
   "source": [
    "X.head()"
   ]
  },
  {
   "cell_type": "code",
   "execution_count": 26,
   "metadata": {},
   "outputs": [
    {
     "data": {
      "text/plain": [
       "0    0\n",
       "1    1\n",
       "2    1\n",
       "3    1\n",
       "4    1\n",
       "Name: Crop_Damage, dtype: int64"
      ]
     },
     "execution_count": 26,
     "metadata": {},
     "output_type": "execute_result"
    }
   ],
   "source": [
    "y = agri['Crop_Damage']\n",
    "y.head()"
   ]
  },
  {
   "cell_type": "code",
   "execution_count": 27,
   "metadata": {},
   "outputs": [
    {
     "data": {
      "text/plain": [
       "((4599, 14), (4599,))"
      ]
     },
     "execution_count": 27,
     "metadata": {},
     "output_type": "execute_result"
    }
   ],
   "source": [
    "X.shape, y.shape"
   ]
  },
  {
   "cell_type": "markdown",
   "metadata": {},
   "source": [
    "Splitting our data."
   ]
  },
  {
   "cell_type": "code",
   "execution_count": 28,
   "metadata": {},
   "outputs": [],
   "source": [
    "from sklearn.model_selection import train_test_split\n",
    "\n",
    "#Importing Base Algorithms\n",
    "from sklearn.neighbors import KNeighborsClassifier\n",
    "from sklearn.naive_bayes import GaussianNB\n",
    "from sklearn.svm import SVC\n",
    "from sklearn.tree import DecisionTreeClassifier\n",
    "\n",
    "#Importing Error Metrics\n",
    "from sklearn.metrics import accuracy_score,confusion_matrix,classification_report\n",
    "from sklearn.metrics import roc_auc_score,roc_curve\n"
   ]
  },
  {
   "cell_type": "code",
   "execution_count": 29,
   "metadata": {},
   "outputs": [
    {
     "name": "stdout",
     "output_type": "stream",
     "text": [
      "Accuracy_score corresponding to the random state 0 is 0.8159420289855073\n",
      "Accuracy_score corresponding to the random state 0 is 0.8246376811594203\n",
      "Accuracy_score corresponding to the random state 0 is 0.836231884057971\n",
      "Accuracy_score corresponding to the random state 0 is 0.7398550724637681\n",
      "Accuracy_score corresponding to the random state 1 is 0.8297101449275363\n",
      "Accuracy_score corresponding to the random state 1 is 0.8434782608695652\n",
      "Accuracy_score corresponding to the random state 1 is 0.8543478260869565\n",
      "Accuracy_score corresponding to the random state 1 is 0.7391304347826086\n",
      "Accuracy_score corresponding to the random state 2 is 0.8188405797101449\n",
      "Accuracy_score corresponding to the random state 2 is 0.8282608695652174\n",
      "Accuracy_score corresponding to the random state 2 is 0.8478260869565217\n",
      "Accuracy_score corresponding to the random state 2 is 0.7253623188405797\n",
      "Accuracy_score corresponding to the random state 3 is 0.8094202898550724\n",
      "Accuracy_score corresponding to the random state 3 is 0.8130434782608695\n",
      "Accuracy_score corresponding to the random state 3 is 0.8333333333333334\n",
      "Accuracy_score corresponding to the random state 3 is 0.7384057971014493\n",
      "Accuracy_score corresponding to the random state 4 is 0.827536231884058\n",
      "Accuracy_score corresponding to the random state 4 is 0.8333333333333334\n",
      "Accuracy_score corresponding to the random state 4 is 0.841304347826087\n",
      "Accuracy_score corresponding to the random state 4 is 0.7333333333333333\n",
      "Accuracy_score corresponding to the random state 5 is 0.822463768115942\n",
      "Accuracy_score corresponding to the random state 5 is 0.8094202898550724\n",
      "Accuracy_score corresponding to the random state 5 is 0.8463768115942029\n",
      "Accuracy_score corresponding to the random state 5 is 0.7492753623188406\n",
      "Accuracy_score corresponding to the random state 6 is 0.7985507246376812\n",
      "Accuracy_score corresponding to the random state 6 is 0.7942028985507247\n",
      "Accuracy_score corresponding to the random state 6 is 0.8166666666666667\n",
      "Accuracy_score corresponding to the random state 6 is 0.7166666666666667\n",
      "Accuracy_score corresponding to the random state 7 is 0.8253623188405798\n",
      "Accuracy_score corresponding to the random state 7 is 0.8202898550724638\n",
      "Accuracy_score corresponding to the random state 7 is 0.8427536231884057\n",
      "Accuracy_score corresponding to the random state 7 is 0.7463768115942029\n",
      "Accuracy_score corresponding to the random state 8 is 0.8217391304347826\n",
      "Accuracy_score corresponding to the random state 8 is 0.8181159420289855\n",
      "Accuracy_score corresponding to the random state 8 is 0.8507246376811595\n",
      "Accuracy_score corresponding to the random state 8 is 0.7405797101449275\n",
      "Accuracy_score corresponding to the random state 9 is 0.8253623188405798\n",
      "Accuracy_score corresponding to the random state 9 is 0.8144927536231884\n",
      "Accuracy_score corresponding to the random state 9 is 0.8456521739130435\n",
      "Accuracy_score corresponding to the random state 9 is 0.7442028985507246\n",
      "Accuracy_score corresponding to the random state 10 is 0.8057971014492754\n",
      "Accuracy_score corresponding to the random state 10 is 0.7985507246376812\n",
      "Accuracy_score corresponding to the random state 10 is 0.8246376811594203\n",
      "Accuracy_score corresponding to the random state 10 is 0.731159420289855\n",
      "Accuracy_score corresponding to the random state 11 is 0.8152173913043478\n",
      "Accuracy_score corresponding to the random state 11 is 0.8108695652173913\n",
      "Accuracy_score corresponding to the random state 11 is 0.8384057971014492\n",
      "Accuracy_score corresponding to the random state 11 is 0.7369565217391304\n",
      "Accuracy_score corresponding to the random state 12 is 0.8159420289855073\n",
      "Accuracy_score corresponding to the random state 12 is 0.8188405797101449\n",
      "Accuracy_score corresponding to the random state 12 is 0.836231884057971\n",
      "Accuracy_score corresponding to the random state 12 is 0.7282608695652174\n",
      "Accuracy_score corresponding to the random state 13 is 0.8152173913043478\n",
      "Accuracy_score corresponding to the random state 13 is 0.8181159420289855\n",
      "Accuracy_score corresponding to the random state 13 is 0.827536231884058\n",
      "Accuracy_score corresponding to the random state 13 is 0.7275362318840579\n",
      "Accuracy_score corresponding to the random state 14 is 0.8260869565217391\n",
      "Accuracy_score corresponding to the random state 14 is 0.8231884057971014\n",
      "Accuracy_score corresponding to the random state 14 is 0.8434782608695652\n",
      "Accuracy_score corresponding to the random state 14 is 0.7275362318840579\n",
      "Accuracy_score corresponding to the random state 15 is 0.7992753623188406\n",
      "Accuracy_score corresponding to the random state 15 is 0.813768115942029\n",
      "Accuracy_score corresponding to the random state 15 is 0.8268115942028985\n",
      "Accuracy_score corresponding to the random state 15 is 0.7326086956521739\n",
      "Accuracy_score corresponding to the random state 16 is 0.8079710144927537\n",
      "Accuracy_score corresponding to the random state 16 is 0.8144927536231884\n",
      "Accuracy_score corresponding to the random state 16 is 0.8239130434782609\n",
      "Accuracy_score corresponding to the random state 16 is 0.7326086956521739\n",
      "Accuracy_score corresponding to the random state 17 is 0.8123188405797102\n",
      "Accuracy_score corresponding to the random state 17 is 0.8115942028985508\n",
      "Accuracy_score corresponding to the random state 17 is 0.8268115942028985\n",
      "Accuracy_score corresponding to the random state 17 is 0.7289855072463768\n",
      "Accuracy_score corresponding to the random state 18 is 0.8181159420289855\n",
      "Accuracy_score corresponding to the random state 18 is 0.822463768115942\n",
      "Accuracy_score corresponding to the random state 18 is 0.8369565217391305\n",
      "Accuracy_score corresponding to the random state 18 is 0.7478260869565218\n",
      "Accuracy_score corresponding to the random state 19 is 0.8115942028985508\n",
      "Accuracy_score corresponding to the random state 19 is 0.8166666666666667\n",
      "Accuracy_score corresponding to the random state 19 is 0.8289855072463768\n",
      "Accuracy_score corresponding to the random state 19 is 0.7355072463768116\n",
      "Accuracy_score corresponding to the random state 20 is 0.8123188405797102\n",
      "Accuracy_score corresponding to the random state 20 is 0.7956521739130434\n",
      "Accuracy_score corresponding to the random state 20 is 0.8282608695652174\n",
      "Accuracy_score corresponding to the random state 20 is 0.7188405797101449\n",
      "Accuracy_score corresponding to the random state 21 is 0.813768115942029\n",
      "Accuracy_score corresponding to the random state 21 is 0.8355072463768116\n",
      "Accuracy_score corresponding to the random state 21 is 0.8384057971014492\n",
      "Accuracy_score corresponding to the random state 21 is 0.7485507246376811\n",
      "Accuracy_score corresponding to the random state 22 is 0.8318840579710145\n",
      "Accuracy_score corresponding to the random state 22 is 0.8282608695652174\n",
      "Accuracy_score corresponding to the random state 22 is 0.8507246376811595\n",
      "Accuracy_score corresponding to the random state 22 is 0.7471014492753624\n",
      "Accuracy_score corresponding to the random state 23 is 0.8217391304347826\n",
      "Accuracy_score corresponding to the random state 23 is 0.8210144927536231\n",
      "Accuracy_score corresponding to the random state 23 is 0.8434782608695652\n",
      "Accuracy_score corresponding to the random state 23 is 0.736231884057971\n",
      "Accuracy_score corresponding to the random state 24 is 0.8101449275362319\n",
      "Accuracy_score corresponding to the random state 24 is 0.7942028985507247\n",
      "Accuracy_score corresponding to the random state 24 is 0.8239130434782609\n",
      "Accuracy_score corresponding to the random state 24 is 0.7369565217391304\n",
      "Accuracy_score corresponding to the random state 25 is 0.8210144927536231\n",
      "Accuracy_score corresponding to the random state 25 is 0.8188405797101449\n",
      "Accuracy_score corresponding to the random state 25 is 0.8376811594202899\n",
      "Accuracy_score corresponding to the random state 25 is 0.7434782608695653\n",
      "Accuracy_score corresponding to the random state 26 is 0.8297101449275363\n",
      "Accuracy_score corresponding to the random state 26 is 0.8231884057971014\n",
      "Accuracy_score corresponding to the random state 26 is 0.8485507246376811\n",
      "Accuracy_score corresponding to the random state 26 is 0.7144927536231884\n",
      "Accuracy_score corresponding to the random state 27 is 0.8079710144927537\n",
      "Accuracy_score corresponding to the random state 27 is 0.8094202898550724\n",
      "Accuracy_score corresponding to the random state 27 is 0.8246376811594203\n",
      "Accuracy_score corresponding to the random state 27 is 0.7239130434782609\n",
      "Accuracy_score corresponding to the random state 28 is 0.8289855072463768\n",
      "Accuracy_score corresponding to the random state 28 is 0.8326086956521739\n"
     ]
    },
    {
     "name": "stdout",
     "output_type": "stream",
     "text": [
      "Accuracy_score corresponding to the random state 28 is 0.841304347826087\n",
      "Accuracy_score corresponding to the random state 28 is 0.7442028985507246\n",
      "Accuracy_score corresponding to the random state 29 is 0.8326086956521739\n",
      "Accuracy_score corresponding to the random state 29 is 0.8289855072463768\n",
      "Accuracy_score corresponding to the random state 29 is 0.8521739130434782\n",
      "Accuracy_score corresponding to the random state 29 is 0.7355072463768116\n",
      "Accuracy_score corresponding to the random state 30 is 0.8318840579710145\n",
      "Accuracy_score corresponding to the random state 30 is 0.8210144927536231\n",
      "Accuracy_score corresponding to the random state 30 is 0.8456521739130435\n",
      "Accuracy_score corresponding to the random state 30 is 0.7507246376811594\n",
      "Accuracy_score corresponding to the random state 31 is 0.813768115942029\n",
      "Accuracy_score corresponding to the random state 31 is 0.8173913043478261\n",
      "Accuracy_score corresponding to the random state 31 is 0.8253623188405798\n",
      "Accuracy_score corresponding to the random state 31 is 0.7340579710144928\n",
      "Accuracy_score corresponding to the random state 32 is 0.8231884057971014\n",
      "Accuracy_score corresponding to the random state 32 is 0.8326086956521739\n",
      "Accuracy_score corresponding to the random state 32 is 0.8449275362318841\n",
      "Accuracy_score corresponding to the random state 32 is 0.7536231884057971\n",
      "Accuracy_score corresponding to the random state 33 is 0.8195652173913044\n",
      "Accuracy_score corresponding to the random state 33 is 0.8246376811594203\n",
      "Accuracy_score corresponding to the random state 33 is 0.8442028985507246\n",
      "Accuracy_score corresponding to the random state 33 is 0.7340579710144928\n",
      "Accuracy_score corresponding to the random state 34 is 0.8188405797101449\n",
      "Accuracy_score corresponding to the random state 34 is 0.8144927536231884\n",
      "Accuracy_score corresponding to the random state 34 is 0.8442028985507246\n",
      "Accuracy_score corresponding to the random state 34 is 0.736231884057971\n",
      "Accuracy_score corresponding to the random state 35 is 0.8072463768115942\n",
      "Accuracy_score corresponding to the random state 35 is 0.8260869565217391\n",
      "Accuracy_score corresponding to the random state 35 is 0.8326086956521739\n",
      "Accuracy_score corresponding to the random state 35 is 0.7369565217391304\n",
      "Accuracy_score corresponding to the random state 36 is 0.8152173913043478\n",
      "Accuracy_score corresponding to the random state 36 is 0.8188405797101449\n",
      "Accuracy_score corresponding to the random state 36 is 0.8333333333333334\n",
      "Accuracy_score corresponding to the random state 36 is 0.731159420289855\n",
      "Accuracy_score corresponding to the random state 37 is 0.8173913043478261\n",
      "Accuracy_score corresponding to the random state 37 is 0.8130434782608695\n",
      "Accuracy_score corresponding to the random state 37 is 0.8340579710144927\n",
      "Accuracy_score corresponding to the random state 37 is 0.7304347826086957\n",
      "Accuracy_score corresponding to the random state 38 is 0.8217391304347826\n",
      "Accuracy_score corresponding to the random state 38 is 0.8181159420289855\n",
      "Accuracy_score corresponding to the random state 38 is 0.8420289855072464\n",
      "Accuracy_score corresponding to the random state 38 is 0.7376811594202899\n",
      "Accuracy_score corresponding to the random state 39 is 0.7956521739130434\n",
      "Accuracy_score corresponding to the random state 39 is 0.8101449275362319\n",
      "Accuracy_score corresponding to the random state 39 is 0.8217391304347826\n",
      "Accuracy_score corresponding to the random state 39 is 0.722463768115942\n",
      "Accuracy_score corresponding to the random state 40 is 0.8188405797101449\n",
      "Accuracy_score corresponding to the random state 40 is 0.8159420289855073\n",
      "Accuracy_score corresponding to the random state 40 is 0.8398550724637681\n",
      "Accuracy_score corresponding to the random state 40 is 0.7427536231884058\n",
      "Accuracy_score corresponding to the random state 41 is 0.7992753623188406\n",
      "Accuracy_score corresponding to the random state 41 is 0.8101449275362319\n",
      "Accuracy_score corresponding to the random state 41 is 0.8246376811594203\n",
      "Accuracy_score corresponding to the random state 41 is 0.7434782608695653\n",
      "Accuracy_score corresponding to the random state 42 is 0.8181159420289855\n",
      "Accuracy_score corresponding to the random state 42 is 0.827536231884058\n",
      "Accuracy_score corresponding to the random state 42 is 0.8384057971014492\n",
      "Accuracy_score corresponding to the random state 42 is 0.75\n",
      "Accuracy_score corresponding to the random state 43 is 0.813768115942029\n",
      "Accuracy_score corresponding to the random state 43 is 0.8181159420289855\n",
      "Accuracy_score corresponding to the random state 43 is 0.8347826086956521\n",
      "Accuracy_score corresponding to the random state 43 is 0.7355072463768116\n",
      "Accuracy_score corresponding to the random state 44 is 0.808695652173913\n",
      "Accuracy_score corresponding to the random state 44 is 0.7884057971014493\n",
      "Accuracy_score corresponding to the random state 44 is 0.8246376811594203\n",
      "Accuracy_score corresponding to the random state 44 is 0.7471014492753624\n",
      "Accuracy_score corresponding to the random state 45 is 0.8173913043478261\n",
      "Accuracy_score corresponding to the random state 45 is 0.803623188405797\n",
      "Accuracy_score corresponding to the random state 45 is 0.822463768115942\n",
      "Accuracy_score corresponding to the random state 45 is 0.741304347826087\n",
      "Accuracy_score corresponding to the random state 46 is 0.8181159420289855\n",
      "Accuracy_score corresponding to the random state 46 is 0.8260869565217391\n",
      "Accuracy_score corresponding to the random state 46 is 0.8405797101449275\n",
      "Accuracy_score corresponding to the random state 46 is 0.741304347826087\n",
      "Accuracy_score corresponding to the random state 47 is 0.8188405797101449\n",
      "Accuracy_score corresponding to the random state 47 is 0.8246376811594203\n",
      "Accuracy_score corresponding to the random state 47 is 0.8340579710144927\n",
      "Accuracy_score corresponding to the random state 47 is 0.7355072463768116\n",
      "Accuracy_score corresponding to the random state 48 is 0.808695652173913\n",
      "Accuracy_score corresponding to the random state 48 is 0.8007246376811594\n",
      "Accuracy_score corresponding to the random state 48 is 0.8304347826086956\n",
      "Accuracy_score corresponding to the random state 48 is 0.7304347826086957\n",
      "Accuracy_score corresponding to the random state 49 is 0.7978260869565217\n",
      "Accuracy_score corresponding to the random state 49 is 0.8108695652173913\n",
      "Accuracy_score corresponding to the random state 49 is 0.822463768115942\n",
      "Accuracy_score corresponding to the random state 49 is 0.7166666666666667\n",
      "Accuracy_score corresponding to the random state 50 is 0.8173913043478261\n",
      "Accuracy_score corresponding to the random state 50 is 0.8326086956521739\n",
      "Accuracy_score corresponding to the random state 50 is 0.8427536231884057\n",
      "Accuracy_score corresponding to the random state 50 is 0.7557971014492754\n",
      "Accuracy_score corresponding to the random state 51 is 0.8108695652173913\n",
      "Accuracy_score corresponding to the random state 51 is 0.8173913043478261\n",
      "Accuracy_score corresponding to the random state 51 is 0.8369565217391305\n",
      "Accuracy_score corresponding to the random state 51 is 0.7398550724637681\n",
      "Accuracy_score corresponding to the random state 52 is 0.8130434782608695\n",
      "Accuracy_score corresponding to the random state 52 is 0.8202898550724638\n",
      "Accuracy_score corresponding to the random state 52 is 0.8326086956521739\n",
      "Accuracy_score corresponding to the random state 52 is 0.7442028985507246\n",
      "Accuracy_score corresponding to the random state 53 is 0.8260869565217391\n",
      "Accuracy_score corresponding to the random state 53 is 0.8239130434782609\n",
      "Accuracy_score corresponding to the random state 53 is 0.8398550724637681\n",
      "Accuracy_score corresponding to the random state 53 is 0.7304347826086957\n",
      "Accuracy_score corresponding to the random state 54 is 0.808695652173913\n",
      "Accuracy_score corresponding to the random state 54 is 0.7971014492753623\n",
      "Accuracy_score corresponding to the random state 54 is 0.8384057971014492\n",
      "Accuracy_score corresponding to the random state 54 is 0.7268115942028985\n",
      "Accuracy_score corresponding to the random state 55 is 0.8101449275362319\n",
      "Accuracy_score corresponding to the random state 55 is 0.8195652173913044\n",
      "Accuracy_score corresponding to the random state 55 is 0.8311594202898551\n",
      "Accuracy_score corresponding to the random state 55 is 0.7376811594202899\n",
      "Accuracy_score corresponding to the random state 56 is 0.8210144927536231\n",
      "Accuracy_score corresponding to the random state 56 is 0.8297101449275363\n"
     ]
    },
    {
     "name": "stdout",
     "output_type": "stream",
     "text": [
      "Accuracy_score corresponding to the random state 56 is 0.8420289855072464\n",
      "Accuracy_score corresponding to the random state 56 is 0.7376811594202899\n",
      "Accuracy_score corresponding to the random state 57 is 0.8065217391304348\n",
      "Accuracy_score corresponding to the random state 57 is 0.8231884057971014\n",
      "Accuracy_score corresponding to the random state 57 is 0.8202898550724638\n",
      "Accuracy_score corresponding to the random state 57 is 0.7456521739130435\n",
      "Accuracy_score corresponding to the random state 58 is 0.8094202898550724\n",
      "Accuracy_score corresponding to the random state 58 is 0.8108695652173913\n",
      "Accuracy_score corresponding to the random state 58 is 0.8246376811594203\n",
      "Accuracy_score corresponding to the random state 58 is 0.7492753623188406\n",
      "Accuracy_score corresponding to the random state 59 is 0.8152173913043478\n",
      "Accuracy_score corresponding to the random state 59 is 0.8333333333333334\n",
      "Accuracy_score corresponding to the random state 59 is 0.8471014492753624\n",
      "Accuracy_score corresponding to the random state 59 is 0.7333333333333333\n",
      "Accuracy_score corresponding to the random state 60 is 0.808695652173913\n",
      "Accuracy_score corresponding to the random state 60 is 0.8101449275362319\n",
      "Accuracy_score corresponding to the random state 60 is 0.8253623188405798\n",
      "Accuracy_score corresponding to the random state 60 is 0.7398550724637681\n",
      "Accuracy_score corresponding to the random state 61 is 0.8108695652173913\n",
      "Accuracy_score corresponding to the random state 61 is 0.8144927536231884\n",
      "Accuracy_score corresponding to the random state 61 is 0.8340579710144927\n",
      "Accuracy_score corresponding to the random state 61 is 0.7355072463768116\n",
      "Accuracy_score corresponding to the random state 62 is 0.8094202898550724\n",
      "Accuracy_score corresponding to the random state 62 is 0.8202898550724638\n",
      "Accuracy_score corresponding to the random state 62 is 0.8391304347826087\n",
      "Accuracy_score corresponding to the random state 62 is 0.7355072463768116\n",
      "Accuracy_score corresponding to the random state 63 is 0.8195652173913044\n",
      "Accuracy_score corresponding to the random state 63 is 0.8072463768115942\n",
      "Accuracy_score corresponding to the random state 63 is 0.8355072463768116\n",
      "Accuracy_score corresponding to the random state 63 is 0.7492753623188406\n",
      "Accuracy_score corresponding to the random state 64 is 0.8210144927536231\n",
      "Accuracy_score corresponding to the random state 64 is 0.8210144927536231\n",
      "Accuracy_score corresponding to the random state 64 is 0.8449275362318841\n",
      "Accuracy_score corresponding to the random state 64 is 0.7456521739130435\n",
      "Accuracy_score corresponding to the random state 65 is 0.8014492753623188\n",
      "Accuracy_score corresponding to the random state 65 is 0.8094202898550724\n",
      "Accuracy_score corresponding to the random state 65 is 0.827536231884058\n",
      "Accuracy_score corresponding to the random state 65 is 0.7072463768115942\n",
      "Accuracy_score corresponding to the random state 66 is 0.8144927536231884\n",
      "Accuracy_score corresponding to the random state 66 is 0.8173913043478261\n",
      "Accuracy_score corresponding to the random state 66 is 0.8268115942028985\n",
      "Accuracy_score corresponding to the random state 66 is 0.7282608695652174\n",
      "Accuracy_score corresponding to the random state 67 is 0.8297101449275363\n",
      "Accuracy_score corresponding to the random state 67 is 0.8231884057971014\n",
      "Accuracy_score corresponding to the random state 67 is 0.8434782608695652\n",
      "Accuracy_score corresponding to the random state 67 is 0.7434782608695653\n",
      "Accuracy_score corresponding to the random state 68 is 0.8188405797101449\n",
      "Accuracy_score corresponding to the random state 68 is 0.8166666666666667\n",
      "Accuracy_score corresponding to the random state 68 is 0.8391304347826087\n",
      "Accuracy_score corresponding to the random state 68 is 0.731159420289855\n",
      "Accuracy_score corresponding to the random state 69 is 0.8021739130434783\n",
      "Accuracy_score corresponding to the random state 69 is 0.8072463768115942\n",
      "Accuracy_score corresponding to the random state 69 is 0.8347826086956521\n",
      "Accuracy_score corresponding to the random state 69 is 0.7557971014492754\n",
      "Accuracy_score corresponding to the random state 70 is 0.8326086956521739\n",
      "Accuracy_score corresponding to the random state 70 is 0.8318840579710145\n",
      "Accuracy_score corresponding to the random state 70 is 0.8442028985507246\n",
      "Accuracy_score corresponding to the random state 70 is 0.744927536231884\n",
      "Accuracy_score corresponding to the random state 71 is 0.8123188405797102\n",
      "Accuracy_score corresponding to the random state 71 is 0.8173913043478261\n",
      "Accuracy_score corresponding to the random state 71 is 0.8376811594202899\n",
      "Accuracy_score corresponding to the random state 71 is 0.731159420289855\n",
      "Accuracy_score corresponding to the random state 72 is 0.8079710144927537\n",
      "Accuracy_score corresponding to the random state 72 is 0.8152173913043478\n",
      "Accuracy_score corresponding to the random state 72 is 0.8405797101449275\n",
      "Accuracy_score corresponding to the random state 72 is 0.7333333333333333\n",
      "Accuracy_score corresponding to the random state 73 is 0.8239130434782609\n",
      "Accuracy_score corresponding to the random state 73 is 0.8173913043478261\n",
      "Accuracy_score corresponding to the random state 73 is 0.8434782608695652\n",
      "Accuracy_score corresponding to the random state 73 is 0.7442028985507246\n",
      "Accuracy_score corresponding to the random state 74 is 0.8188405797101449\n",
      "Accuracy_score corresponding to the random state 74 is 0.8268115942028985\n",
      "Accuracy_score corresponding to the random state 74 is 0.8471014492753624\n",
      "Accuracy_score corresponding to the random state 74 is 0.7347826086956522\n",
      "Accuracy_score corresponding to the random state 75 is 0.8166666666666667\n",
      "Accuracy_score corresponding to the random state 75 is 0.8021739130434783\n",
      "Accuracy_score corresponding to the random state 75 is 0.8318840579710145\n",
      "Accuracy_score corresponding to the random state 75 is 0.7391304347826086\n",
      "Accuracy_score corresponding to the random state 76 is 0.8123188405797102\n",
      "Accuracy_score corresponding to the random state 76 is 0.8108695652173913\n",
      "Accuracy_score corresponding to the random state 76 is 0.8260869565217391\n",
      "Accuracy_score corresponding to the random state 76 is 0.7101449275362319\n",
      "Accuracy_score corresponding to the random state 77 is 0.8043478260869565\n",
      "Accuracy_score corresponding to the random state 77 is 0.8043478260869565\n",
      "Accuracy_score corresponding to the random state 77 is 0.8297101449275363\n",
      "Accuracy_score corresponding to the random state 77 is 0.7579710144927536\n",
      "Accuracy_score corresponding to the random state 78 is 0.8130434782608695\n",
      "Accuracy_score corresponding to the random state 78 is 0.813768115942029\n",
      "Accuracy_score corresponding to the random state 78 is 0.8282608695652174\n",
      "Accuracy_score corresponding to the random state 78 is 0.7369565217391304\n",
      "Accuracy_score corresponding to the random state 79 is 0.8144927536231884\n",
      "Accuracy_score corresponding to the random state 79 is 0.8123188405797102\n",
      "Accuracy_score corresponding to the random state 79 is 0.8326086956521739\n",
      "Accuracy_score corresponding to the random state 79 is 0.7347826086956522\n",
      "Accuracy_score corresponding to the random state 80 is 0.8108695652173913\n",
      "Accuracy_score corresponding to the random state 80 is 0.8094202898550724\n",
      "Accuracy_score corresponding to the random state 80 is 0.8369565217391305\n",
      "Accuracy_score corresponding to the random state 80 is 0.7485507246376811\n",
      "Accuracy_score corresponding to the random state 81 is 0.8021739130434783\n",
      "Accuracy_score corresponding to the random state 81 is 0.8130434782608695\n",
      "Accuracy_score corresponding to the random state 81 is 0.8202898550724638\n",
      "Accuracy_score corresponding to the random state 81 is 0.7282608695652174\n",
      "Accuracy_score corresponding to the random state 82 is 0.8021739130434783\n",
      "Accuracy_score corresponding to the random state 82 is 0.8152173913043478\n",
      "Accuracy_score corresponding to the random state 82 is 0.8318840579710145\n",
      "Accuracy_score corresponding to the random state 82 is 0.7333333333333333\n",
      "Accuracy_score corresponding to the random state 83 is 0.8144927536231884\n",
      "Accuracy_score corresponding to the random state 83 is 0.827536231884058\n",
      "Accuracy_score corresponding to the random state 83 is 0.8318840579710145\n",
      "Accuracy_score corresponding to the random state 83 is 0.7340579710144928\n",
      "Accuracy_score corresponding to the random state 84 is 0.8166666666666667\n",
      "Accuracy_score corresponding to the random state 84 is 0.8123188405797102\n"
     ]
    },
    {
     "name": "stdout",
     "output_type": "stream",
     "text": [
      "Accuracy_score corresponding to the random state 84 is 0.836231884057971\n",
      "Accuracy_score corresponding to the random state 84 is 0.7492753623188406\n",
      "Accuracy_score corresponding to the random state 85 is 0.8050724637681159\n",
      "Accuracy_score corresponding to the random state 85 is 0.8152173913043478\n",
      "Accuracy_score corresponding to the random state 85 is 0.8188405797101449\n",
      "Accuracy_score corresponding to the random state 85 is 0.7471014492753624\n",
      "Accuracy_score corresponding to the random state 86 is 0.8282608695652174\n",
      "Accuracy_score corresponding to the random state 86 is 0.8311594202898551\n",
      "Accuracy_score corresponding to the random state 86 is 0.8492753623188406\n",
      "Accuracy_score corresponding to the random state 86 is 0.741304347826087\n",
      "Accuracy_score corresponding to the random state 87 is 0.8065217391304348\n",
      "Accuracy_score corresponding to the random state 87 is 0.8108695652173913\n",
      "Accuracy_score corresponding to the random state 87 is 0.8326086956521739\n",
      "Accuracy_score corresponding to the random state 87 is 0.7289855072463768\n",
      "Accuracy_score corresponding to the random state 88 is 0.8130434782608695\n",
      "Accuracy_score corresponding to the random state 88 is 0.8130434782608695\n",
      "Accuracy_score corresponding to the random state 88 is 0.8210144927536231\n",
      "Accuracy_score corresponding to the random state 88 is 0.7282608695652174\n",
      "Accuracy_score corresponding to the random state 89 is 0.8260869565217391\n",
      "Accuracy_score corresponding to the random state 89 is 0.8239130434782609\n",
      "Accuracy_score corresponding to the random state 89 is 0.8492753623188406\n",
      "Accuracy_score corresponding to the random state 89 is 0.736231884057971\n",
      "Accuracy_score corresponding to the random state 90 is 0.8173913043478261\n",
      "Accuracy_score corresponding to the random state 90 is 0.8282608695652174\n",
      "Accuracy_score corresponding to the random state 90 is 0.8311594202898551\n",
      "Accuracy_score corresponding to the random state 90 is 0.7471014492753624\n",
      "Accuracy_score corresponding to the random state 91 is 0.8304347826086956\n",
      "Accuracy_score corresponding to the random state 91 is 0.8239130434782609\n",
      "Accuracy_score corresponding to the random state 91 is 0.8507246376811595\n",
      "Accuracy_score corresponding to the random state 91 is 0.7340579710144928\n",
      "Accuracy_score corresponding to the random state 92 is 0.8050724637681159\n",
      "Accuracy_score corresponding to the random state 92 is 0.803623188405797\n",
      "Accuracy_score corresponding to the random state 92 is 0.8210144927536231\n",
      "Accuracy_score corresponding to the random state 92 is 0.7123188405797102\n",
      "Accuracy_score corresponding to the random state 93 is 0.8173913043478261\n",
      "Accuracy_score corresponding to the random state 93 is 0.8326086956521739\n",
      "Accuracy_score corresponding to the random state 93 is 0.8384057971014492\n",
      "Accuracy_score corresponding to the random state 93 is 0.7304347826086957\n",
      "Accuracy_score corresponding to the random state 94 is 0.8326086956521739\n",
      "Accuracy_score corresponding to the random state 94 is 0.8173913043478261\n",
      "Accuracy_score corresponding to the random state 94 is 0.8485507246376811\n",
      "Accuracy_score corresponding to the random state 94 is 0.7557971014492754\n",
      "Accuracy_score corresponding to the random state 95 is 0.8123188405797102\n",
      "Accuracy_score corresponding to the random state 95 is 0.8050724637681159\n",
      "Accuracy_score corresponding to the random state 95 is 0.8340579710144927\n",
      "Accuracy_score corresponding to the random state 95 is 0.722463768115942\n",
      "Accuracy_score corresponding to the random state 96 is 0.8166666666666667\n",
      "Accuracy_score corresponding to the random state 96 is 0.8231884057971014\n",
      "Accuracy_score corresponding to the random state 96 is 0.8304347826086956\n",
      "Accuracy_score corresponding to the random state 96 is 0.7528985507246376\n",
      "Accuracy_score corresponding to the random state 97 is 0.8152173913043478\n",
      "Accuracy_score corresponding to the random state 97 is 0.8202898550724638\n",
      "Accuracy_score corresponding to the random state 97 is 0.8384057971014492\n",
      "Accuracy_score corresponding to the random state 97 is 0.741304347826087\n",
      "Accuracy_score corresponding to the random state 98 is 0.8130434782608695\n",
      "Accuracy_score corresponding to the random state 98 is 0.8202898550724638\n",
      "Accuracy_score corresponding to the random state 98 is 0.8398550724637681\n",
      "Accuracy_score corresponding to the random state 98 is 0.7297101449275363\n",
      "Accuracy_score corresponding to the random state 99 is 0.8231884057971014\n",
      "Accuracy_score corresponding to the random state 99 is 0.813768115942029\n",
      "Accuracy_score corresponding to the random state 99 is 0.8420289855072464\n",
      "Accuracy_score corresponding to the random state 99 is 0.75\n",
      "\n",
      "\n",
      "max ac_score corresponding to random state 1 is 0.8543478260869565 and the final model is SVC()\n"
     ]
    }
   ],
   "source": [
    "model = [KNeighborsClassifier(), GaussianNB(), SVC(), DecisionTreeClassifier()]\n",
    "max_ac_score = 0\n",
    "for r_state in range(0,100):\n",
    "        X_train, X_test, y_train, y_test = train_test_split(X, y, random_state = r_state, test_size = 0.30)\n",
    "        for m in model:\n",
    "            m.fit(X_train, y_train)\n",
    "            pred = m.predict(X_test)\n",
    "            ac_score = accuracy_score(y_test,pred)\n",
    "            print('Accuracy_score corresponding to the random state', r_state, 'is', ac_score)\n",
    "            if ac_score > max_ac_score:\n",
    "                max_ac_score = ac_score\n",
    "                final_r_state = r_state\n",
    "                final_model = m\n",
    "print()\n",
    "print()\n",
    "print('max ac_score corresponding to random state', final_r_state, 'is', max_ac_score, 'and the final model is', final_model)"
   ]
  },
  {
   "cell_type": "markdown",
   "metadata": {},
   "source": [
    "So we have our best accuracy of 85.43% with it's random state as 1, we will now try and tune the parameters of our base model ie.SVC()."
   ]
  },
  {
   "cell_type": "code",
   "execution_count": 30,
   "metadata": {},
   "outputs": [
    {
     "name": "stdout",
     "output_type": "stream",
     "text": [
      "Score of SVC() is: 0.8291394843118981\n",
      "AS: 0.8543478260869565\n",
      "CM: [[1167    1    0]\n",
      " [ 171   12    0]\n",
      " [  28    1    0]]\n",
      "CR:               precision    recall  f1-score   support\n",
      "\n",
      "           0       0.85      1.00      0.92      1168\n",
      "           1       0.86      0.07      0.12       183\n",
      "           2       0.00      0.00      0.00        29\n",
      "\n",
      "    accuracy                           0.85      1380\n",
      "   macro avg       0.57      0.35      0.35      1380\n",
      "weighted avg       0.84      0.85      0.80      1380\n",
      "\n"
     ]
    }
   ],
   "source": [
    "X_train, X_test, y_train, y_test = train_test_split(X, y, random_state = 1, test_size = 0.30)\n",
    "svc = SVC()\n",
    "svc.fit(X_train,y_train)\n",
    "pred = svc.predict(X_test)\n",
    "print('Score of', svc, 'is:', svc.score(X_train, y_train))\n",
    "print('AS:',accuracy_score(y_test,pred))\n",
    "print('CM:',confusion_matrix(y_test,pred))\n",
    "print('CR:',classification_report(y_test,pred))"
   ]
  },
  {
   "cell_type": "code",
   "execution_count": 31,
   "metadata": {},
   "outputs": [
    {
     "data": {
      "text/plain": [
       "GridSearchCV(cv=5, estimator=SVC(),\n",
       "             param_grid={'C': [0.001, 0.01, 0.1, 1, 10],\n",
       "                         'kernel': ['linear', 'poly', 'rbf']})"
      ]
     },
     "execution_count": 31,
     "metadata": {},
     "output_type": "execute_result"
    }
   ],
   "source": [
    "from sklearn.model_selection import GridSearchCV\n",
    "param_grid_svc = {\n",
    "    'C': [0.001, 0.01, 0.1, 1, 10],\n",
    "    'kernel':['linear', 'poly', 'rbf'], \n",
    "}\n",
    "GCV_svc = GridSearchCV(estimator=svc,param_grid=param_grid_svc,cv=5)\n",
    "GCV_svc.fit(X_train,y_train)"
   ]
  },
  {
   "cell_type": "code",
   "execution_count": 32,
   "metadata": {},
   "outputs": [
    {
     "name": "stdout",
     "output_type": "stream",
     "text": [
      "\n",
      " Best parameters = \n",
      "{'C': 0.1, 'kernel': 'linear'}\n"
     ]
    }
   ],
   "source": [
    "print('\\n Best parameters = ')\n",
    "print(GCV_svc.best_params_)"
   ]
  },
  {
   "cell_type": "code",
   "execution_count": 33,
   "metadata": {},
   "outputs": [
    {
     "name": "stdout",
     "output_type": "stream",
     "text": [
      "Best Scores =  0.8285183002810971\n"
     ]
    }
   ],
   "source": [
    "print('Best Scores = ',GCV_svc.best_score_)"
   ]
  },
  {
   "cell_type": "code",
   "execution_count": 34,
   "metadata": {},
   "outputs": [
    {
     "name": "stdout",
     "output_type": "stream",
     "text": [
      "Score of SVC(C=0.1, kernel='linear', probability=True) is: 0.8285181733457595\n",
      "AS: 0.8543478260869565\n",
      "CM: [[1167    1    0]\n",
      " [ 171   12    0]\n",
      " [  28    1    0]]\n",
      "CR:               precision    recall  f1-score   support\n",
      "\n",
      "           0       0.85      1.00      0.92      1168\n",
      "           1       0.86      0.07      0.12       183\n",
      "           2       0.00      0.00      0.00        29\n",
      "\n",
      "    accuracy                           0.85      1380\n",
      "   macro avg       0.57      0.35      0.35      1380\n",
      "weighted avg       0.84      0.85      0.80      1380\n",
      "\n"
     ]
    }
   ],
   "source": [
    "#Feeding the best parameters to the Base algorithm.\n",
    "svc_best = SVC(C=0.1, kernel='linear', probability=True)\n",
    "svc_best.fit(X_train,y_train)\n",
    "pred_svc = svc_best.predict(X_test)\n",
    "print('Score of', svc_best, 'is:', svc_best.score(X_train, y_train))\n",
    "print('AS:',accuracy_score(y_test,pred_svc))\n",
    "print('CM:',confusion_matrix(y_test,pred_svc))\n",
    "print('CR:',classification_report(y_test,pred_svc))"
   ]
  },
  {
   "cell_type": "code",
   "execution_count": 35,
   "metadata": {},
   "outputs": [
    {
     "name": "stdout",
     "output_type": "stream",
     "text": [
      "Score: [0.82608696 0.83385093 0.82453416 0.82919255 0.82892691]\n",
      "Mean Score: 0.8285183002810971\n",
      "Standard deviation: 0.0031888342065191544\n"
     ]
    }
   ],
   "source": [
    "#Cross Validation\n",
    "from sklearn.model_selection import cross_val_score\n",
    "score_svc = cross_val_score(svc_best, X_train, y_train, cv=5, scoring='accuracy')\n",
    "print('Score:',score_svc)\n",
    "print('Mean Score:',score_svc.mean())\n",
    "print('Standard deviation:',score_svc.std())"
   ]
  },
  {
   "cell_type": "markdown",
   "metadata": {},
   "source": [
    "We got the same accuracy for our model fitted with best parameters and model with grid search cv. But we surely came to know that our model is working well and is not a case of underfit or overfit."
   ]
  },
  {
   "cell_type": "markdown",
   "metadata": {},
   "source": [
    "Let's use Ensembling Techniques!"
   ]
  },
  {
   "cell_type": "code",
   "execution_count": 36,
   "metadata": {},
   "outputs": [
    {
     "name": "stdout",
     "output_type": "stream",
     "text": [
      "Accuracy_score corresponding to the random state 0 is 0.8210144927536231\n",
      "Accuracy_score corresponding to the random state 1 is 0.8311594202898551\n",
      "Accuracy_score corresponding to the random state 2 is 0.827536231884058\n",
      "Accuracy_score corresponding to the random state 3 is 0.7985507246376812\n",
      "Accuracy_score corresponding to the random state 4 is 0.8144927536231884\n",
      "Accuracy_score corresponding to the random state 5 is 0.8152173913043478\n",
      "Accuracy_score corresponding to the random state 6 is 0.803623188405797\n",
      "Accuracy_score corresponding to the random state 7 is 0.8231884057971014\n",
      "Accuracy_score corresponding to the random state 8 is 0.8289855072463768\n",
      "Accuracy_score corresponding to the random state 9 is 0.8115942028985508\n",
      "Accuracy_score corresponding to the random state 10 is 0.8043478260869565\n",
      "Accuracy_score corresponding to the random state 11 is 0.813768115942029\n",
      "Accuracy_score corresponding to the random state 12 is 0.8231884057971014\n",
      "Accuracy_score corresponding to the random state 13 is 0.8152173913043478\n",
      "Accuracy_score corresponding to the random state 14 is 0.8108695652173913\n",
      "Accuracy_score corresponding to the random state 15 is 0.8260869565217391\n",
      "Accuracy_score corresponding to the random state 16 is 0.8166666666666667\n",
      "Accuracy_score corresponding to the random state 17 is 0.8115942028985508\n",
      "Accuracy_score corresponding to the random state 18 is 0.8210144927536231\n",
      "Accuracy_score corresponding to the random state 19 is 0.8028985507246377\n",
      "Accuracy_score corresponding to the random state 20 is 0.7927536231884058\n",
      "Accuracy_score corresponding to the random state 21 is 0.8123188405797102\n",
      "Accuracy_score corresponding to the random state 22 is 0.8282608695652174\n",
      "Accuracy_score corresponding to the random state 23 is 0.8202898550724638\n",
      "Accuracy_score corresponding to the random state 24 is 0.803623188405797\n",
      "Accuracy_score corresponding to the random state 25 is 0.8181159420289855\n",
      "Accuracy_score corresponding to the random state 26 is 0.8173913043478261\n",
      "Accuracy_score corresponding to the random state 27 is 0.8007246376811594\n",
      "Accuracy_score corresponding to the random state 28 is 0.8202898550724638\n",
      "Accuracy_score corresponding to the random state 29 is 0.8144927536231884\n",
      "Accuracy_score corresponding to the random state 30 is 0.8260869565217391\n",
      "Accuracy_score corresponding to the random state 31 is 0.8007246376811594\n",
      "Accuracy_score corresponding to the random state 32 is 0.8166666666666667\n",
      "Accuracy_score corresponding to the random state 33 is 0.8108695652173913\n",
      "Accuracy_score corresponding to the random state 34 is 0.8021739130434783\n",
      "Accuracy_score corresponding to the random state 35 is 0.8166666666666667\n",
      "Accuracy_score corresponding to the random state 36 is 0.8188405797101449\n",
      "Accuracy_score corresponding to the random state 37 is 0.8094202898550724\n",
      "Accuracy_score corresponding to the random state 38 is 0.8152173913043478\n",
      "Accuracy_score corresponding to the random state 39 is 0.8050724637681159\n",
      "Accuracy_score corresponding to the random state 40 is 0.8217391304347826\n",
      "Accuracy_score corresponding to the random state 41 is 0.8043478260869565\n",
      "Accuracy_score corresponding to the random state 42 is 0.8130434782608695\n",
      "Accuracy_score corresponding to the random state 43 is 0.822463768115942\n",
      "Accuracy_score corresponding to the random state 44 is 0.8101449275362319\n",
      "Accuracy_score corresponding to the random state 45 is 0.8115942028985508\n",
      "Accuracy_score corresponding to the random state 46 is 0.8166666666666667\n",
      "Accuracy_score corresponding to the random state 47 is 0.8188405797101449\n",
      "Accuracy_score corresponding to the random state 48 is 0.8159420289855073\n",
      "Accuracy_score corresponding to the random state 49 is 0.8007246376811594\n",
      "Accuracy_score corresponding to the random state 50 is 0.8253623188405798\n",
      "Accuracy_score corresponding to the random state 51 is 0.822463768115942\n",
      "Accuracy_score corresponding to the random state 52 is 0.8166666666666667\n",
      "Accuracy_score corresponding to the random state 53 is 0.8260869565217391\n",
      "Accuracy_score corresponding to the random state 54 is 0.8072463768115942\n",
      "Accuracy_score corresponding to the random state 55 is 0.8043478260869565\n",
      "Accuracy_score corresponding to the random state 56 is 0.8239130434782609\n",
      "Accuracy_score corresponding to the random state 57 is 0.8123188405797102\n",
      "Accuracy_score corresponding to the random state 58 is 0.813768115942029\n",
      "Accuracy_score corresponding to the random state 59 is 0.8014492753623188\n",
      "Accuracy_score corresponding to the random state 60 is 0.7963768115942029\n",
      "Accuracy_score corresponding to the random state 61 is 0.8144927536231884\n",
      "Accuracy_score corresponding to the random state 62 is 0.8210144927536231\n",
      "Accuracy_score corresponding to the random state 63 is 0.8130434782608695\n",
      "Accuracy_score corresponding to the random state 64 is 0.8188405797101449\n",
      "Accuracy_score corresponding to the random state 65 is 0.7934782608695652\n",
      "Accuracy_score corresponding to the random state 66 is 0.8072463768115942\n",
      "Accuracy_score corresponding to the random state 67 is 0.8297101449275363\n",
      "Accuracy_score corresponding to the random state 68 is 0.8195652173913044\n",
      "Accuracy_score corresponding to the random state 69 is 0.8115942028985508\n",
      "Accuracy_score corresponding to the random state 70 is 0.8065217391304348\n",
      "Accuracy_score corresponding to the random state 71 is 0.8057971014492754\n",
      "Accuracy_score corresponding to the random state 72 is 0.8094202898550724\n",
      "Accuracy_score corresponding to the random state 73 is 0.8333333333333334\n",
      "Accuracy_score corresponding to the random state 74 is 0.8159420289855073\n",
      "Accuracy_score corresponding to the random state 75 is 0.813768115942029\n",
      "Accuracy_score corresponding to the random state 76 is 0.8079710144927537\n",
      "Accuracy_score corresponding to the random state 77 is 0.803623188405797\n",
      "Accuracy_score corresponding to the random state 78 is 0.822463768115942\n",
      "Accuracy_score corresponding to the random state 79 is 0.813768115942029\n",
      "Accuracy_score corresponding to the random state 80 is 0.8231884057971014\n",
      "Accuracy_score corresponding to the random state 81 is 0.7978260869565217\n",
      "Accuracy_score corresponding to the random state 82 is 0.8\n",
      "Accuracy_score corresponding to the random state 83 is 0.827536231884058\n",
      "Accuracy_score corresponding to the random state 84 is 0.8115942028985508\n",
      "Accuracy_score corresponding to the random state 85 is 0.8101449275362319\n",
      "Accuracy_score corresponding to the random state 86 is 0.8202898550724638\n",
      "Accuracy_score corresponding to the random state 87 is 0.8065217391304348\n",
      "Accuracy_score corresponding to the random state 88 is 0.8130434782608695\n",
      "Accuracy_score corresponding to the random state 89 is 0.8152173913043478\n",
      "Accuracy_score corresponding to the random state 90 is 0.8043478260869565\n",
      "Accuracy_score corresponding to the random state 91 is 0.8282608695652174\n",
      "Accuracy_score corresponding to the random state 92 is 0.7934782608695652\n",
      "Accuracy_score corresponding to the random state 93 is 0.8246376811594203\n",
      "Accuracy_score corresponding to the random state 94 is 0.8260869565217391\n",
      "Accuracy_score corresponding to the random state 95 is 0.8072463768115942\n",
      "Accuracy_score corresponding to the random state 96 is 0.8079710144927537\n",
      "Accuracy_score corresponding to the random state 97 is 0.8079710144927537\n",
      "Accuracy_score corresponding to the random state 98 is 0.8188405797101449\n",
      "Accuracy_score corresponding to the random state 99 is 0.8115942028985508\n",
      "\n",
      "\n",
      "max ac_score corresponding to random state 73 is 0.8333333333333334 and the final model is XGBClassifier(base_score=0.5, booster='gbtree', colsample_bylevel=1,\n",
      "              colsample_bynode=1, colsample_bytree=1, gamma=0, gpu_id=-1,\n",
      "              importance_type='gain', interaction_constraints='',\n",
      "              learning_rate=0.300000012, max_delta_step=0, max_depth=6,\n",
      "              min_child_weight=1, missing=nan, monotone_constraints='()',\n",
      "              n_estimators=100, n_jobs=8, num_parallel_tree=1,\n",
      "              objective='multi:softprob', random_state=0, reg_alpha=0,\n",
      "              reg_lambda=1, scale_pos_weight=None, subsample=1,\n",
      "              tree_method='exact', validate_parameters=1, verbosity=0)\n"
     ]
    }
   ],
   "source": [
    "from xgboost import XGBClassifier\n",
    "model = [XGBClassifier(verbosity=0)]\n",
    "max_ac_score = 0\n",
    "for r_state in range(0,100):\n",
    "        X_train, X_test, y_train, y_test = train_test_split(X, y, random_state = r_state, test_size = 0.30)\n",
    "        for m in model:\n",
    "            m.fit(X_train, y_train)\n",
    "            pred = m.predict(X_test)\n",
    "            ac_score = accuracy_score(y_test,pred)\n",
    "            print('Accuracy_score corresponding to the random state', r_state, 'is', ac_score)\n",
    "            if ac_score > max_ac_score:\n",
    "                max_ac_score = ac_score\n",
    "                final_r_state = r_state\n",
    "                final_model = m\n",
    "print()\n",
    "print()\n",
    "print('max ac_score corresponding to random state', final_r_state, 'is', max_ac_score, 'and the final model is', final_model)"
   ]
  },
  {
   "cell_type": "markdown",
   "metadata": {},
   "source": [
    "max ac_score corresponding to random state 73 is 0.8333333333333334 and the final model is XGBClassifier which is lower than pur SVC with best parameters."
   ]
  },
  {
   "cell_type": "markdown",
   "metadata": {},
   "source": [
    "Let's try tunning it."
   ]
  },
  {
   "cell_type": "code",
   "execution_count": 37,
   "metadata": {},
   "outputs": [
    {
     "data": {
      "text/plain": [
       "GridSearchCV(cv=5,\n",
       "             estimator=XGBClassifier(base_score=None, booster=None,\n",
       "                                     colsample_bylevel=None,\n",
       "                                     colsample_bynode=None,\n",
       "                                     colsample_bytree=None, gamma=None,\n",
       "                                     gpu_id=None, importance_type='gain',\n",
       "                                     interaction_constraints=None,\n",
       "                                     learning_rate=None, max_delta_step=None,\n",
       "                                     max_depth=None, min_child_weight=None,\n",
       "                                     missing=nan, monotone_constraints=None,\n",
       "                                     n_estimators=100, n_jobs=None,\n",
       "                                     num_parallel_tree=None, random_state=None,\n",
       "                                     reg_alpha=None, reg_lambda=None,\n",
       "                                     scale_pos_weight=None, subsample=None,\n",
       "                                     tree_method=None, validate_parameters=None,\n",
       "                                     verbosity=0),\n",
       "             param_grid={'max_depth': [9, 10, 11, 12],\n",
       "                         'min_child_weight': [5, 6, 7, 8]})"
      ]
     },
     "execution_count": 37,
     "metadata": {},
     "output_type": "execute_result"
    }
   ],
   "source": [
    "from sklearn.model_selection import GridSearchCV\n",
    "X_train, X_test, y_train, y_test = train_test_split(X, y, random_state = 73, test_size = 0.30)\n",
    "XGB = XGBClassifier(verbosity=0)\n",
    "param_grid = {'max_depth' : [9,10,11,12],\n",
    "        'min_child_weight' : [5,6,7,8]}\n",
    "GCV_XGB = GridSearchCV(estimator=XGB,param_grid=param_grid,cv=5)\n",
    "GCV_XGB.fit(X_train,y_train)"
   ]
  },
  {
   "cell_type": "code",
   "execution_count": 38,
   "metadata": {},
   "outputs": [
    {
     "name": "stdout",
     "output_type": "stream",
     "text": [
      "\n",
      " Best parameters = \n",
      "{'max_depth': 10, 'min_child_weight': 7}\n"
     ]
    }
   ],
   "source": [
    "print('\\n Best parameters = ')\n",
    "print(GCV_XGB.best_params_)"
   ]
  },
  {
   "cell_type": "code",
   "execution_count": 39,
   "metadata": {},
   "outputs": [
    {
     "name": "stdout",
     "output_type": "stream",
     "text": [
      "Best Scores =  0.8024187861634612\n"
     ]
    }
   ],
   "source": [
    "print('Best Scores = ',GCV_XGB.best_score_)"
   ]
  },
  {
   "cell_type": "code",
   "execution_count": 40,
   "metadata": {},
   "outputs": [
    {
     "name": "stdout",
     "output_type": "stream",
     "text": [
      "Score of XGBClassifier(base_score=0.5, booster='gbtree', colsample_bylevel=1,\n",
      "              colsample_bynode=1, colsample_bytree=1, gamma=0, gpu_id=-1,\n",
      "              importance_type='gain', interaction_constraints='',\n",
      "              learning_rate=0.300000012, max_delta_step=0, max_depth=10,\n",
      "              min_child_weight=7, missing=nan, monotone_constraints='()',\n",
      "              n_estimators=100, n_jobs=8, num_parallel_tree=1,\n",
      "              objective='multi:softprob', random_state=0, reg_alpha=0,\n",
      "              reg_lambda=1, scale_pos_weight=None, subsample=1,\n",
      "              tree_method='exact', validate_parameters=1, verbosity=None) is: 0.9450139794967382\n",
      "AS: 0.8347826086956521\n",
      "CM: [[1103   47    6]\n",
      " [ 141   48    9]\n",
      " [  16    9    1]]\n",
      "CR:               precision    recall  f1-score   support\n",
      "\n",
      "           0       0.88      0.95      0.91      1156\n",
      "           1       0.46      0.24      0.32       198\n",
      "           2       0.06      0.04      0.05        26\n",
      "\n",
      "    accuracy                           0.83      1380\n",
      "   macro avg       0.47      0.41      0.43      1380\n",
      "weighted avg       0.80      0.83      0.81      1380\n",
      "\n"
     ]
    }
   ],
   "source": [
    "#Feeding the best parameters to the XGBC\n",
    "xgb_best = XGBClassifier(max_depth = 10, min_child_weight = 7)\n",
    "xgb_best.fit(X_train,y_train)\n",
    "pred_xgb = xgb_best.predict(X_test)\n",
    "print('Score of', xgb_best, 'is:', xgb_best.score(X_train, y_train))\n",
    "print('AS:',accuracy_score(y_test,pred_xgb))\n",
    "print('CM:',confusion_matrix(y_test,pred_xgb))\n",
    "print('CR:',classification_report(y_test,pred_xgb))"
   ]
  },
  {
   "cell_type": "code",
   "execution_count": 41,
   "metadata": {},
   "outputs": [
    {
     "name": "stdout",
     "output_type": "stream",
     "text": [
      "Score: [0.79347826 0.80745342 0.81677019 0.80590062 0.78849145]\n",
      "Mean Score: 0.8024187861634612\n",
      "Standard deviation: 0.010171894096779458\n"
     ]
    }
   ],
   "source": [
    "#Cross Validation\n",
    "from sklearn.model_selection import cross_val_score\n",
    "score_xgb_best = cross_val_score(xgb_best, X_train, y_train, cv=5, scoring='accuracy')\n",
    "print('Score:',score_xgb_best)\n",
    "print('Mean Score:',score_xgb_best.mean())\n",
    "print('Standard deviation:',score_xgb_best.std())"
   ]
  },
  {
   "cell_type": "markdown",
   "metadata": {},
   "source": [
    "///////////////////////////////////////////////////////////////////////////////////////////////////////////////////////////////////////////////////////////////////////////////////////////////////////////////////////////////////////////////////////////////\n",
    "Comparison between the two models :-\n",
    "    \n",
    "SVC(tunned parameters)-\n",
    "    \n",
    "    Score of SVC(C=0.1, kernel='linear', probability=True) is: 0.8285181733457595\n",
    "    AS: 0.8543478260869565\n",
    "        \n",
    "        Cross validation results :-\n",
    "            Score: [0.82608696 0.83385093 0.82453416 0.82919255 0.82892691]\n",
    "            Mean Score: 0.8285183002810971\n",
    "            Standard deviation: 0.0031888342065191544\n",
    "\n",
    "XGBoost(tunned parameters)-\n",
    "    \n",
    "    Score of XGBClassifier is: 0.9450139794967382\n",
    "    AS: 0.8347826086956521\n",
    "        \n",
    "        Cross validation results :-\n",
    "            Score: [0.79347826 0.80745342 0.81677019 0.80590062 0.78849145]\n",
    "            Mean Score: 0.8024187861634612\n",
    "            Standard deviation: 0.010171894096779458"
   ]
  },
  {
   "cell_type": "markdown",
   "metadata": {},
   "source": [
    "We get the accuracy score of SVC greater than that of the XGB whereas the model's performances differ a lot in both the cases as the learnijng rate of the XGB is way greater than that of the  SVC as it is a really powerful algorithm to work with it learns faster.\n",
    "\n",
    "But when we see the mean scores of both the models we get the idea that both of our models are learning fairly good as well as not underfitting or overfitting.\n",
    "\n",
    "So, we will choose SVC as it's accuracy is greater than the XGB. And the mean scores are fairly good."
   ]
  },
  {
   "cell_type": "markdown",
   "metadata": {},
   "source": [
    "Let's fit our model!"
   ]
  },
  {
   "cell_type": "code",
   "execution_count": 42,
   "metadata": {},
   "outputs": [
    {
     "data": {
      "text/plain": [
       "0.8362687540769732"
      ]
     },
     "execution_count": 42,
     "metadata": {},
     "output_type": "execute_result"
    }
   ],
   "source": [
    "svc_best.fit(X,y)\n",
    "svc_best.score(X,y)"
   ]
  },
  {
   "cell_type": "markdown",
   "metadata": {},
   "source": [
    "SAVING OUR MODEL!"
   ]
  },
  {
   "cell_type": "code",
   "execution_count": 43,
   "metadata": {},
   "outputs": [
    {
     "data": {
      "text/plain": [
       "['agriculture.pkl']"
      ]
     },
     "execution_count": 43,
     "metadata": {},
     "output_type": "execute_result"
    }
   ],
   "source": [
    "import joblib\n",
    "joblib.dump(svc_best,'agriculture.pkl')"
   ]
  },
  {
   "cell_type": "markdown",
   "metadata": {},
   "source": [
    "# Testing the given data over the trained model."
   ]
  },
  {
   "cell_type": "code",
   "execution_count": 44,
   "metadata": {},
   "outputs": [],
   "source": [
    "#Import the test data.\n",
    "test_agri = pd.read_excel('Downloads/test_agriculture.xlsx')\n",
    "test_agri.to_csv('Downloads/test_agriculture.csv')"
   ]
  },
  {
   "cell_type": "code",
   "execution_count": 45,
   "metadata": {},
   "outputs": [],
   "source": [
    "agriculture = test_agri.copy()"
   ]
  },
  {
   "cell_type": "code",
   "execution_count": 46,
   "metadata": {},
   "outputs": [
    {
     "data": {
      "text/plain": [
       "(1199, 9)"
      ]
     },
     "execution_count": 46,
     "metadata": {},
     "output_type": "execute_result"
    }
   ],
   "source": [
    "test_agri.shape"
   ]
  },
  {
   "cell_type": "code",
   "execution_count": 47,
   "metadata": {},
   "outputs": [
    {
     "name": "stdout",
     "output_type": "stream",
     "text": [
      "<class 'pandas.core.frame.DataFrame'>\n",
      "RangeIndex: 1199 entries, 0 to 1198\n",
      "Data columns (total 9 columns):\n",
      " #   Column                   Non-Null Count  Dtype  \n",
      "---  ------                   --------------  -----  \n",
      " 0   ID                       1199 non-null   object \n",
      " 1   Estimated_Insects_Count  1199 non-null   int64  \n",
      " 2   Crop_Type                1199 non-null   int64  \n",
      " 3   Soil_Type                1199 non-null   int64  \n",
      " 4   Pesticide_Use_Category   1199 non-null   int64  \n",
      " 5   Number_Doses_Week        1199 non-null   int64  \n",
      " 6   Number_Weeks_Used        1080 non-null   float64\n",
      " 7   Number_Weeks_Quit        1199 non-null   int64  \n",
      " 8   Season                   1199 non-null   int64  \n",
      "dtypes: float64(1), int64(7), object(1)\n",
      "memory usage: 84.4+ KB\n"
     ]
    }
   ],
   "source": [
    "test_agri.info()"
   ]
  },
  {
   "cell_type": "code",
   "execution_count": 48,
   "metadata": {},
   "outputs": [
    {
     "data": {
      "text/plain": [
       "ID                           0\n",
       "Estimated_Insects_Count      0\n",
       "Crop_Type                    0\n",
       "Soil_Type                    0\n",
       "Pesticide_Use_Category       0\n",
       "Number_Doses_Week            0\n",
       "Number_Weeks_Used          119\n",
       "Number_Weeks_Quit            0\n",
       "Season                       0\n",
       "dtype: int64"
      ]
     },
     "execution_count": 48,
     "metadata": {},
     "output_type": "execute_result"
    }
   ],
   "source": [
    "test_agri.isnull().sum()"
   ]
  },
  {
   "cell_type": "code",
   "execution_count": 49,
   "metadata": {},
   "outputs": [],
   "source": [
    "#Imputing the null values\n",
    "test_agri['Number_Weeks_Used'].fillna(test_agri['Number_Weeks_Used'].mode()[0],inplace=True)"
   ]
  },
  {
   "cell_type": "code",
   "execution_count": 50,
   "metadata": {},
   "outputs": [
    {
     "data": {
      "text/plain": [
       "ID                         0\n",
       "Estimated_Insects_Count    0\n",
       "Crop_Type                  0\n",
       "Soil_Type                  0\n",
       "Pesticide_Use_Category     0\n",
       "Number_Doses_Week          0\n",
       "Number_Weeks_Used          0\n",
       "Number_Weeks_Quit          0\n",
       "Season                     0\n",
       "dtype: int64"
      ]
     },
     "execution_count": 50,
     "metadata": {},
     "output_type": "execute_result"
    }
   ],
   "source": [
    "test_agri.isnull().sum()"
   ]
  },
  {
   "cell_type": "code",
   "execution_count": 51,
   "metadata": {},
   "outputs": [
    {
     "data": {
      "text/plain": [
       "ID                           0\n",
       "Estimated_Insects_Count      0\n",
       "Crop_Type                  966\n",
       "Soil_Type                  653\n",
       "Pesticide_Use_Category       0\n",
       "Number_Doses_Week           22\n",
       "Number_Weeks_Used           18\n",
       "Number_Weeks_Quit          539\n",
       "Season                       0\n",
       "dtype: int64"
      ]
     },
     "execution_count": 51,
     "metadata": {},
     "output_type": "execute_result"
    }
   ],
   "source": [
    "#zero values present in our dataset\n",
    "test_agri.isin([0]).sum()"
   ]
  },
  {
   "cell_type": "code",
   "execution_count": 52,
   "metadata": {},
   "outputs": [
    {
     "data": {
      "text/plain": [
       "array([1199, 1199,  233,  546, 1199, 1177, 1181,  660, 1199], dtype=int64)"
      ]
     },
     "execution_count": 52,
     "metadata": {},
     "output_type": "execute_result"
    }
   ],
   "source": [
    "#Non-zero values present in our dataset\n",
    "np.count_nonzero(test_agri, axis=0)"
   ]
  },
  {
   "cell_type": "code",
   "execution_count": 53,
   "metadata": {},
   "outputs": [
    {
     "data": {
      "text/html": [
       "<div>\n",
       "<style scoped>\n",
       "    .dataframe tbody tr th:only-of-type {\n",
       "        vertical-align: middle;\n",
       "    }\n",
       "\n",
       "    .dataframe tbody tr th {\n",
       "        vertical-align: top;\n",
       "    }\n",
       "\n",
       "    .dataframe thead th {\n",
       "        text-align: right;\n",
       "    }\n",
       "</style>\n",
       "<table border=\"1\" class=\"dataframe\">\n",
       "  <thead>\n",
       "    <tr style=\"text-align: right;\">\n",
       "      <th></th>\n",
       "      <th>Estimated_Insects_Count</th>\n",
       "      <th>Crop_Type</th>\n",
       "      <th>Soil_Type</th>\n",
       "      <th>Pesticide_Use_Category</th>\n",
       "      <th>Number_Doses_Week</th>\n",
       "      <th>Number_Weeks_Used</th>\n",
       "      <th>Number_Weeks_Quit</th>\n",
       "      <th>Season</th>\n",
       "    </tr>\n",
       "  </thead>\n",
       "  <tbody>\n",
       "    <tr>\n",
       "      <th>0</th>\n",
       "      <td>188</td>\n",
       "      <td>1</td>\n",
       "      <td>1</td>\n",
       "      <td>1</td>\n",
       "      <td>0</td>\n",
       "      <td>20.0</td>\n",
       "      <td>0</td>\n",
       "      <td>2</td>\n",
       "    </tr>\n",
       "    <tr>\n",
       "      <th>1</th>\n",
       "      <td>410</td>\n",
       "      <td>1</td>\n",
       "      <td>1</td>\n",
       "      <td>1</td>\n",
       "      <td>0</td>\n",
       "      <td>0.0</td>\n",
       "      <td>0</td>\n",
       "      <td>2</td>\n",
       "    </tr>\n",
       "    <tr>\n",
       "      <th>2</th>\n",
       "      <td>626</td>\n",
       "      <td>1</td>\n",
       "      <td>0</td>\n",
       "      <td>1</td>\n",
       "      <td>0</td>\n",
       "      <td>0.0</td>\n",
       "      <td>0</td>\n",
       "      <td>2</td>\n",
       "    </tr>\n",
       "    <tr>\n",
       "      <th>3</th>\n",
       "      <td>731</td>\n",
       "      <td>1</td>\n",
       "      <td>0</td>\n",
       "      <td>1</td>\n",
       "      <td>0</td>\n",
       "      <td>0.0</td>\n",
       "      <td>0</td>\n",
       "      <td>2</td>\n",
       "    </tr>\n",
       "    <tr>\n",
       "      <th>4</th>\n",
       "      <td>789</td>\n",
       "      <td>0</td>\n",
       "      <td>0</td>\n",
       "      <td>1</td>\n",
       "      <td>0</td>\n",
       "      <td>0.0</td>\n",
       "      <td>0</td>\n",
       "      <td>1</td>\n",
       "    </tr>\n",
       "  </tbody>\n",
       "</table>\n",
       "</div>"
      ],
      "text/plain": [
       "   Estimated_Insects_Count  Crop_Type  Soil_Type  Pesticide_Use_Category  \\\n",
       "0                      188          1          1                       1   \n",
       "1                      410          1          1                       1   \n",
       "2                      626          1          0                       1   \n",
       "3                      731          1          0                       1   \n",
       "4                      789          0          0                       1   \n",
       "\n",
       "   Number_Doses_Week  Number_Weeks_Used  Number_Weeks_Quit  Season  \n",
       "0                  0               20.0                  0       2  \n",
       "1                  0                0.0                  0       2  \n",
       "2                  0                0.0                  0       2  \n",
       "3                  0                0.0                  0       2  \n",
       "4                  0                0.0                  0       1  "
      ]
     },
     "execution_count": 53,
     "metadata": {},
     "output_type": "execute_result"
    }
   ],
   "source": [
    "#Dropping the redundant column\n",
    "test_agri = test_agri.drop(columns=['ID'],axis=1)\n",
    "test_agri.head()"
   ]
  },
  {
   "cell_type": "code",
   "execution_count": 54,
   "metadata": {},
   "outputs": [],
   "source": [
    "#Standard Scaling the data and one-hot-encoding it to get dummies\n",
    "from sklearn.preprocessing import StandardScaler\n",
    "test_agri = pd.get_dummies(test_agri, columns = ['Crop_Type', 'Soil_Type', 'Pesticide_Use_Category', 'Season'])\n",
    "sc = StandardScaler()\n",
    "columns_to_scale = ['Estimated_Insects_Count', 'Number_Doses_Week', 'Number_Weeks_Used', 'Number_Weeks_Quit']\n",
    "test_agri[columns_to_scale] = sc.fit_transform(test_agri[columns_to_scale])"
   ]
  },
  {
   "cell_type": "code",
   "execution_count": 55,
   "metadata": {},
   "outputs": [
    {
     "data": {
      "text/html": [
       "<div>\n",
       "<style scoped>\n",
       "    .dataframe tbody tr th:only-of-type {\n",
       "        vertical-align: middle;\n",
       "    }\n",
       "\n",
       "    .dataframe tbody tr th {\n",
       "        vertical-align: top;\n",
       "    }\n",
       "\n",
       "    .dataframe thead th {\n",
       "        text-align: right;\n",
       "    }\n",
       "</style>\n",
       "<table border=\"1\" class=\"dataframe\">\n",
       "  <thead>\n",
       "    <tr style=\"text-align: right;\">\n",
       "      <th></th>\n",
       "      <th>Estimated_Insects_Count</th>\n",
       "      <th>Number_Doses_Week</th>\n",
       "      <th>Number_Weeks_Used</th>\n",
       "      <th>Number_Weeks_Quit</th>\n",
       "      <th>Crop_Type_0</th>\n",
       "      <th>Crop_Type_1</th>\n",
       "      <th>Soil_Type_0</th>\n",
       "      <th>Soil_Type_1</th>\n",
       "      <th>Pesticide_Use_Category_1</th>\n",
       "      <th>Pesticide_Use_Category_2</th>\n",
       "      <th>Pesticide_Use_Category_3</th>\n",
       "      <th>Season_1</th>\n",
       "      <th>Season_2</th>\n",
       "      <th>Season_3</th>\n",
       "    </tr>\n",
       "  </thead>\n",
       "  <tbody>\n",
       "    <tr>\n",
       "      <th>0</th>\n",
       "      <td>-1.303184</td>\n",
       "      <td>-1.64457</td>\n",
       "      <td>-0.654990</td>\n",
       "      <td>-0.796004</td>\n",
       "      <td>0</td>\n",
       "      <td>1</td>\n",
       "      <td>0</td>\n",
       "      <td>1</td>\n",
       "      <td>1</td>\n",
       "      <td>0</td>\n",
       "      <td>0</td>\n",
       "      <td>0</td>\n",
       "      <td>1</td>\n",
       "      <td>0</td>\n",
       "    </tr>\n",
       "    <tr>\n",
       "      <th>1</th>\n",
       "      <td>-1.040354</td>\n",
       "      <td>-1.64457</td>\n",
       "      <td>-2.264938</td>\n",
       "      <td>-0.796004</td>\n",
       "      <td>0</td>\n",
       "      <td>1</td>\n",
       "      <td>0</td>\n",
       "      <td>1</td>\n",
       "      <td>1</td>\n",
       "      <td>0</td>\n",
       "      <td>0</td>\n",
       "      <td>0</td>\n",
       "      <td>1</td>\n",
       "      <td>0</td>\n",
       "    </tr>\n",
       "    <tr>\n",
       "      <th>2</th>\n",
       "      <td>-0.784627</td>\n",
       "      <td>-1.64457</td>\n",
       "      <td>-2.264938</td>\n",
       "      <td>-0.796004</td>\n",
       "      <td>0</td>\n",
       "      <td>1</td>\n",
       "      <td>1</td>\n",
       "      <td>0</td>\n",
       "      <td>1</td>\n",
       "      <td>0</td>\n",
       "      <td>0</td>\n",
       "      <td>0</td>\n",
       "      <td>1</td>\n",
       "      <td>0</td>\n",
       "    </tr>\n",
       "    <tr>\n",
       "      <th>3</th>\n",
       "      <td>-0.660316</td>\n",
       "      <td>-1.64457</td>\n",
       "      <td>-2.264938</td>\n",
       "      <td>-0.796004</td>\n",
       "      <td>0</td>\n",
       "      <td>1</td>\n",
       "      <td>1</td>\n",
       "      <td>0</td>\n",
       "      <td>1</td>\n",
       "      <td>0</td>\n",
       "      <td>0</td>\n",
       "      <td>0</td>\n",
       "      <td>1</td>\n",
       "      <td>0</td>\n",
       "    </tr>\n",
       "    <tr>\n",
       "      <th>4</th>\n",
       "      <td>-0.591648</td>\n",
       "      <td>-1.64457</td>\n",
       "      <td>-2.264938</td>\n",
       "      <td>-0.796004</td>\n",
       "      <td>1</td>\n",
       "      <td>0</td>\n",
       "      <td>1</td>\n",
       "      <td>0</td>\n",
       "      <td>1</td>\n",
       "      <td>0</td>\n",
       "      <td>0</td>\n",
       "      <td>1</td>\n",
       "      <td>0</td>\n",
       "      <td>0</td>\n",
       "    </tr>\n",
       "  </tbody>\n",
       "</table>\n",
       "</div>"
      ],
      "text/plain": [
       "   Estimated_Insects_Count  Number_Doses_Week  Number_Weeks_Used  \\\n",
       "0                -1.303184           -1.64457          -0.654990   \n",
       "1                -1.040354           -1.64457          -2.264938   \n",
       "2                -0.784627           -1.64457          -2.264938   \n",
       "3                -0.660316           -1.64457          -2.264938   \n",
       "4                -0.591648           -1.64457          -2.264938   \n",
       "\n",
       "   Number_Weeks_Quit  Crop_Type_0  Crop_Type_1  Soil_Type_0  Soil_Type_1  \\\n",
       "0          -0.796004            0            1            0            1   \n",
       "1          -0.796004            0            1            0            1   \n",
       "2          -0.796004            0            1            1            0   \n",
       "3          -0.796004            0            1            1            0   \n",
       "4          -0.796004            1            0            1            0   \n",
       "\n",
       "   Pesticide_Use_Category_1  Pesticide_Use_Category_2  \\\n",
       "0                         1                         0   \n",
       "1                         1                         0   \n",
       "2                         1                         0   \n",
       "3                         1                         0   \n",
       "4                         1                         0   \n",
       "\n",
       "   Pesticide_Use_Category_3  Season_1  Season_2  Season_3  \n",
       "0                         0         0         1         0  \n",
       "1                         0         0         1         0  \n",
       "2                         0         0         1         0  \n",
       "3                         0         0         1         0  \n",
       "4                         0         1         0         0  "
      ]
     },
     "execution_count": 55,
     "metadata": {},
     "output_type": "execute_result"
    }
   ],
   "source": [
    "test_agri.head()"
   ]
  },
  {
   "cell_type": "code",
   "execution_count": 56,
   "metadata": {},
   "outputs": [],
   "source": [
    "#Making the predictions\n",
    "predict_crop_damage = svc_best.predict(test_agri)"
   ]
  },
  {
   "cell_type": "code",
   "execution_count": 57,
   "metadata": {},
   "outputs": [],
   "source": [
    "#Saving the predictions in a DataFrame\n",
    "predict = pd.DataFrame(predict_crop_damage,columns=['Crop_Damage'])"
   ]
  },
  {
   "cell_type": "code",
   "execution_count": 58,
   "metadata": {},
   "outputs": [
    {
     "data": {
      "text/html": [
       "<div>\n",
       "<style scoped>\n",
       "    .dataframe tbody tr th:only-of-type {\n",
       "        vertical-align: middle;\n",
       "    }\n",
       "\n",
       "    .dataframe tbody tr th {\n",
       "        vertical-align: top;\n",
       "    }\n",
       "\n",
       "    .dataframe thead th {\n",
       "        text-align: right;\n",
       "    }\n",
       "</style>\n",
       "<table border=\"1\" class=\"dataframe\">\n",
       "  <thead>\n",
       "    <tr style=\"text-align: right;\">\n",
       "      <th></th>\n",
       "      <th>ID</th>\n",
       "      <th>Crop_Damage</th>\n",
       "    </tr>\n",
       "  </thead>\n",
       "  <tbody>\n",
       "    <tr>\n",
       "      <th>0</th>\n",
       "      <td>F00000002</td>\n",
       "      <td>1</td>\n",
       "    </tr>\n",
       "    <tr>\n",
       "      <th>1</th>\n",
       "      <td>F00000007</td>\n",
       "      <td>1</td>\n",
       "    </tr>\n",
       "    <tr>\n",
       "      <th>2</th>\n",
       "      <td>F00000011</td>\n",
       "      <td>1</td>\n",
       "    </tr>\n",
       "    <tr>\n",
       "      <th>3</th>\n",
       "      <td>F00000013</td>\n",
       "      <td>1</td>\n",
       "    </tr>\n",
       "    <tr>\n",
       "      <th>4</th>\n",
       "      <td>F00000014</td>\n",
       "      <td>1</td>\n",
       "    </tr>\n",
       "  </tbody>\n",
       "</table>\n",
       "</div>"
      ],
      "text/plain": [
       "          ID  Crop_Damage\n",
       "0  F00000002            1\n",
       "1  F00000007            1\n",
       "2  F00000011            1\n",
       "3  F00000013            1\n",
       "4  F00000014            1"
      ]
     },
     "execution_count": 58,
     "metadata": {},
     "output_type": "execute_result"
    }
   ],
   "source": [
    "#Checking for the predictions corresponding to the IDs\n",
    "predict = pd.concat([agriculture['ID'], predict], axis=1)\n",
    "predict.head()"
   ]
  },
  {
   "cell_type": "code",
   "execution_count": 59,
   "metadata": {},
   "outputs": [],
   "source": [
    "#Saving a csv file\n",
    "predict.to_csv('predicted_agriculture_data.csv',index=False)"
   ]
  }
 ],
 "metadata": {
  "kernelspec": {
   "display_name": "Python 3",
   "language": "python",
   "name": "python3"
  },
  "language_info": {
   "codemirror_mode": {
    "name": "ipython",
    "version": 3
   },
   "file_extension": ".py",
   "mimetype": "text/x-python",
   "name": "python",
   "nbconvert_exporter": "python",
   "pygments_lexer": "ipython3",
   "version": "3.8.3"
  }
 },
 "nbformat": 4,
 "nbformat_minor": 4
}
